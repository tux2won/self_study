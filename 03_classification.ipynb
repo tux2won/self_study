{
  "cells": [
    {
      "cell_type": "markdown",
      "metadata": {
        "id": "view-in-github",
        "colab_type": "text"
      },
      "source": [
        "<a href=\"https://colab.research.google.com/github/tux2won/self_study/blob/main/03_classification.ipynb\" target=\"_parent\"><img src=\"https://colab.research.google.com/assets/colab-badge.svg\" alt=\"Open In Colab\"/></a>"
      ]
    },
    {
      "cell_type": "markdown",
      "metadata": {
        "id": "brAuoQUHDqmB"
      },
      "source": [
        "**3장 – 분류**\n",
        "\n",
        "_이 노트북은 3장의 모든 샘플 코드와 연습 문제 정답을 담고 있습니다._"
      ]
    },
    {
      "cell_type": "markdown",
      "metadata": {
        "id": "ZwWkwxv6DqmE"
      },
      "source": [
        "<table align=\"left\">\n",
        "  <td>\n",
        "    <a target=\"_blank\" href=\"https://colab.research.google.com/github/rickiepark/handson-ml2/blob/master/03_classification.ipynb\"><img src=\"https://www.tensorflow.org/images/colab_logo_32px.png\" />구글 코랩에서 실행하기</a>\n",
        "  </td>\n",
        "</table>"
      ]
    },
    {
      "cell_type": "markdown",
      "metadata": {
        "id": "GxRTi1cADqmE"
      },
      "source": [
        "# 설정"
      ]
    },
    {
      "cell_type": "markdown",
      "metadata": {
        "id": "At9nwgTDDqmE"
      },
      "source": [
        "먼저 몇 개의 모듈을 임포트합니다. 맷플롯립 그래프를 인라인으로 출력하도록 만들고 그림을 저장하는 함수를 준비합니다. 또한 파이썬 버전이 3.5 이상인지 확인합니다(파이썬 2.x에서도 동작하지만 곧 지원이 중단되므로 파이썬 3을 사용하는 것이 좋습니다). 사이킷런 버전이 0.20 이상인지도 확인합니다."
      ]
    },
    {
      "cell_type": "code",
      "execution_count": null,
      "metadata": {
        "execution": {
          "iopub.execute_input": "2021-11-03T03:32:14.273688Z",
          "iopub.status.busy": "2021-11-03T03:32:14.272928Z",
          "iopub.status.idle": "2021-11-03T03:32:15.536909Z",
          "shell.execute_reply": "2021-11-03T03:32:15.537445Z"
        },
        "id": "6bnJlwtODqmF"
      },
      "outputs": [],
      "source": [
        "# 파이썬 ≥3.5 필수\n",
        "import sys\n",
        "assert sys.version_info >= (3, 5)\n",
        "\n",
        "# 사이킷런 ≥0.20 필수\n",
        "import sklearn\n",
        "assert sklearn.__version__ >= \"0.20\"\n",
        "\n",
        "# 공통 모듈 임포트\n",
        "import numpy as np\n",
        "import os\n",
        "\n",
        "# 노트북 실행 결과를 동일하게 유지하기 위해\n",
        "np.random.seed(42)\n",
        "\n",
        "# 깔끔한 그래프 출력을 위해\n",
        "%matplotlib inline\n",
        "import matplotlib as mpl\n",
        "import matplotlib.pyplot as plt\n",
        "mpl.rc('axes', labelsize=14)\n",
        "mpl.rc('xtick', labelsize=12)\n",
        "mpl.rc('ytick', labelsize=12)\n",
        "\n",
        "# 그림을 저장할 위치\n",
        "PROJECT_ROOT_DIR = \".\"\n",
        "CHAPTER_ID = \"classification\"\n",
        "IMAGES_PATH = os.path.join(PROJECT_ROOT_DIR, \"images\", CHAPTER_ID)\n",
        "os.makedirs(IMAGES_PATH, exist_ok=True)\n",
        "\n",
        "def save_fig(fig_id, tight_layout=True, fig_extension=\"png\", resolution=300):\n",
        "    path = os.path.join(IMAGES_PATH, fig_id + \".\" + fig_extension)\n",
        "    print(\"그림 저장:\", fig_id)\n",
        "    if tight_layout:\n",
        "        plt.tight_layout()\n",
        "    plt.savefig(path, format=fig_extension, dpi=resolution)"
      ]
    },
    {
      "cell_type": "markdown",
      "metadata": {
        "id": "FIkyi6uwDqmG"
      },
      "source": [
        "# MNIST"
      ]
    },
    {
      "cell_type": "code",
      "execution_count": null,
      "metadata": {
        "execution": {
          "iopub.execute_input": "2021-11-03T03:32:15.540675Z",
          "iopub.status.busy": "2021-11-03T03:32:15.540074Z",
          "iopub.status.idle": "2021-11-03T03:32:33.373965Z",
          "shell.execute_reply": "2021-11-03T03:32:33.374425Z"
        },
        "id": "rWxXeGGaDqmG",
        "collapsed": true
      },
      "outputs": [],
      "source": [
        "from sklearn.datasets import fetch_openml\n",
        "\n",
        "# MNIST 데이터셋 불러오기\n",
        "mnist = fetch_openml('mnist_784') # version=1 # as_frame=False\n",
        "mnist.keys()"
      ]
    },
    {
      "cell_type": "code",
      "source": [
        "# 개같은 사이킷런 데이터셋을 못불러옴\n",
        "# TensorFlow/Keras를 이용한 MNIST 데이터 로드\n",
        "\n",
        "import tensorflow as tf\n",
        "import numpy as np\n",
        "\n",
        "# TensorFlow/Keras를 사용해 MNIST 데이터 로드\n",
        "mnist_tf = tf.keras.datasets.mnist\n",
        "(x_train, y_train), (x_test, y_test) = mnist_tf.load_data()\n",
        "\n",
        "# 데이터 전처리: 2D 이미지를 1D 벡터로 변환 (28x28 -> 784)\n",
        "x_train_flat = x_train.reshape(x_train.shape[0], -1)\n",
        "x_test_flat = x_test.reshape(x_test.shape[0], -1)\n",
        "\n",
        "# 데이터 병합 (사이킷런 형식에 맞게 전체 데이터 하나로 구성)\n",
        "data = np.vstack((x_train_flat, x_test_flat))  # 전체 데이터 (70000, 784)\n",
        "target = np.hstack((y_train, y_test)).astype(str)  # 레이블 (70000,)\n",
        "\n",
        "# 딕셔너리 형태로 저장\n",
        "mnist = {\n",
        "    \"data\": data,           # 데이터 (28x28 이미지를 펼친 784 차원)\n",
        "    \"target\": target,       # 레이블 (문자열 형태)\n",
        "    \"DESCR\": \"The MNIST dataset (converted from TensorFlow/Keras)\",\n",
        "    \"feature_names\": [f\"pixel_{i}\" for i in range(data.shape[1])],\n",
        "}\n",
        "\n",
        "\n",
        "\n",
        "mnist.keys()"
      ],
      "metadata": {
        "id": "JHe-rlT9S4Bi",
        "outputId": "6ca7dea1-d634-498a-9548-d57cd2872b53",
        "colab": {
          "base_uri": "https://localhost:8080/"
        }
      },
      "execution_count": 14,
      "outputs": [
        {
          "output_type": "execute_result",
          "data": {
            "text/plain": [
              "dict_keys(['data', 'target', 'DESCR', 'feature_names'])"
            ]
          },
          "metadata": {},
          "execution_count": 14
        }
      ]
    },
    {
      "cell_type": "markdown",
      "source": [
        "사이킷런에서 읽혀 들인 데이터셋들은 일반적으로 비슷한 딕셔너리 구조를 가지고 있다."
      ],
      "metadata": {
        "id": "NqZKGhh8E5Wx"
      }
    },
    {
      "cell_type": "code",
      "source": [
        "mnist['url']"
      ],
      "metadata": {
        "id": "tlWOHIWAEpIZ",
        "outputId": "03c7957a-14c3-4e73-dffe-b2fc33e127a6",
        "colab": {
          "base_uri": "https://localhost:8080/",
          "height": 141
        }
      },
      "execution_count": 15,
      "outputs": [
        {
          "output_type": "error",
          "ename": "KeyError",
          "evalue": "'url'",
          "traceback": [
            "\u001b[0;31m---------------------------------------------------------------------------\u001b[0m",
            "\u001b[0;31mKeyError\u001b[0m                                  Traceback (most recent call last)",
            "\u001b[0;32m<ipython-input-15-9bcc98ce4531>\u001b[0m in \u001b[0;36m<cell line: 0>\u001b[0;34m()\u001b[0m\n\u001b[0;32m----> 1\u001b[0;31m \u001b[0mmnist\u001b[0m\u001b[0;34m[\u001b[0m\u001b[0;34m'url'\u001b[0m\u001b[0;34m]\u001b[0m\u001b[0;34m\u001b[0m\u001b[0;34m\u001b[0m\u001b[0m\n\u001b[0m",
            "\u001b[0;31mKeyError\u001b[0m: 'url'"
          ]
        }
      ]
    },
    {
      "cell_type": "code",
      "execution_count": 16,
      "metadata": {
        "execution": {
          "iopub.execute_input": "2021-11-03T03:32:33.377741Z",
          "iopub.status.busy": "2021-11-03T03:32:33.377101Z",
          "iopub.status.idle": "2021-11-03T03:32:33.380958Z",
          "shell.execute_reply": "2021-11-03T03:32:33.381483Z"
        },
        "id": "97XJeynUDqmH",
        "outputId": "e6cae632-ebbe-4c16-9e39-94a55f2d4e5e",
        "colab": {
          "base_uri": "https://localhost:8080/"
        }
      },
      "outputs": [
        {
          "output_type": "execute_result",
          "data": {
            "text/plain": [
              "(70000, 784)"
            ]
          },
          "metadata": {},
          "execution_count": 16
        }
      ],
      "source": [
        "X, y = mnist[\"data\"], mnist[\"target\"]\n",
        "X.shape"
      ]
    },
    {
      "cell_type": "code",
      "execution_count": 17,
      "metadata": {
        "execution": {
          "iopub.execute_input": "2021-11-03T03:32:33.384251Z",
          "iopub.status.busy": "2021-11-03T03:32:33.383671Z",
          "iopub.status.idle": "2021-11-03T03:32:33.387547Z",
          "shell.execute_reply": "2021-11-03T03:32:33.388014Z"
        },
        "id": "wqz7uUiFDqmH",
        "outputId": "90df7b25-c280-4193-fd6c-c03d4553dfd2",
        "colab": {
          "base_uri": "https://localhost:8080/"
        }
      },
      "outputs": [
        {
          "output_type": "execute_result",
          "data": {
            "text/plain": [
              "(70000,)"
            ]
          },
          "metadata": {},
          "execution_count": 17
        }
      ],
      "source": [
        "y.shape"
      ]
    },
    {
      "cell_type": "code",
      "execution_count": 18,
      "metadata": {
        "execution": {
          "iopub.execute_input": "2021-11-03T03:32:33.391085Z",
          "iopub.status.busy": "2021-11-03T03:32:33.390502Z",
          "iopub.status.idle": "2021-11-03T03:32:33.393807Z",
          "shell.execute_reply": "2021-11-03T03:32:33.394229Z"
        },
        "id": "1VPaWMsmDqmH",
        "outputId": "4c1cc6b7-0d8d-461b-a506-f60f9e43f32a",
        "colab": {
          "base_uri": "https://localhost:8080/"
        }
      },
      "outputs": [
        {
          "output_type": "execute_result",
          "data": {
            "text/plain": [
              "784"
            ]
          },
          "metadata": {},
          "execution_count": 18
        }
      ],
      "source": [
        "28 * 28"
      ]
    },
    {
      "cell_type": "code",
      "execution_count": 19,
      "metadata": {
        "execution": {
          "iopub.execute_input": "2021-11-03T03:32:33.412684Z",
          "iopub.status.busy": "2021-11-03T03:32:33.396664Z",
          "iopub.status.idle": "2021-11-03T03:32:33.641846Z",
          "shell.execute_reply": "2021-11-03T03:32:33.642468Z"
        },
        "id": "uCMfBVyfDqmI",
        "outputId": "351f63d5-b794-4e40-a9bb-a08d3f87ecfa",
        "colab": {
          "base_uri": "https://localhost:8080/",
          "height": 504
        }
      },
      "outputs": [
        {
          "output_type": "stream",
          "name": "stdout",
          "text": [
            "그림 저장: some_digit_plot\n"
          ]
        },
        {
          "output_type": "display_data",
          "data": {
            "text/plain": [
              "<Figure size 640x480 with 1 Axes>"
            ],
            "image/png": "[encoded data removed]"
          },
          "metadata": {}
        }
      ],
      "source": [
        "%matplotlib inline\n",
        "import matplotlib as mpl\n",
        "import matplotlib.pyplot as plt\n",
        "\n",
        "some_digit = X[0]\n",
        "some_digit_image = some_digit.reshape(28, 28)\n",
        "plt.imshow(some_digit_image, cmap=mpl.cm.binary)\n",
        "plt.axis(\"off\")\n",
        "\n",
        "save_fig(\"some_digit_plot\")\n",
        "plt.show()"
      ]
    },
    {
      "cell_type": "code",
      "execution_count": 20,
      "metadata": {
        "execution": {
          "iopub.execute_input": "2021-11-03T03:32:33.647673Z",
          "iopub.status.busy": "2021-11-03T03:32:33.647053Z",
          "iopub.status.idle": "2021-11-03T03:32:33.659510Z",
          "shell.execute_reply": "2021-11-03T03:32:33.658058Z"
        },
        "id": "bKJUR9uQDqmI",
        "outputId": "85fdc444-0f49-4480-b2dd-bd1e9ff142b7",
        "colab": {
          "base_uri": "https://localhost:8080/",
          "height": 35
        }
      },
      "outputs": [
        {
          "output_type": "execute_result",
          "data": {
            "text/plain": [
              "'5'"
            ],
            "application/vnd.google.colaboratory.intrinsic+json": {
              "type": "string"
            }
          },
          "metadata": {},
          "execution_count": 20
        }
      ],
      "source": [
        "y[0]"
      ]
    },
    {
      "cell_type": "code",
      "execution_count": 21,
      "metadata": {
        "execution": {
          "iopub.execute_input": "2021-11-03T03:32:33.668978Z",
          "iopub.status.busy": "2021-11-03T03:32:33.668378Z",
          "iopub.status.idle": "2021-11-03T03:32:33.672952Z",
          "shell.execute_reply": "2021-11-03T03:32:33.672062Z"
        },
        "id": "ULEVNjOcDqmI"
      },
      "outputs": [],
      "source": [
        "y = y.astype(np.uint8)"
      ]
    },
    {
      "cell_type": "code",
      "execution_count": 22,
      "metadata": {
        "execution": {
          "iopub.execute_input": "2021-11-03T03:32:33.677456Z",
          "iopub.status.busy": "2021-11-03T03:32:33.676791Z",
          "iopub.status.idle": "2021-11-03T03:32:33.680374Z",
          "shell.execute_reply": "2021-11-03T03:32:33.679852Z"
        },
        "id": "O9MxTqFyDqmI"
      },
      "outputs": [],
      "source": [
        "def plot_digit(data):\n",
        "    image = data.reshape(28, 28)\n",
        "    plt.imshow(image, cmap = mpl.cm.binary,\n",
        "               interpolation=\"nearest\")\n",
        "    plt.axis(\"off\")"
      ]
    },
    {
      "cell_type": "code",
      "execution_count": 23,
      "metadata": {
        "execution": {
          "iopub.execute_input": "2021-11-03T03:32:33.687160Z",
          "iopub.status.busy": "2021-11-03T03:32:33.686418Z",
          "iopub.status.idle": "2021-11-03T03:32:33.689287Z",
          "shell.execute_reply": "2021-11-03T03:32:33.688693Z"
        },
        "id": "mtg9adzADqmI"
      },
      "outputs": [],
      "source": [
        "# 숫자 그림을 위한 추가 함수\n",
        "def plot_digits(instances, images_per_row=10, **options):\n",
        "    size = 28\n",
        "    images_per_row = min(len(instances), images_per_row)\n",
        "    # n_rows = ceil(len(instances) / images_per_row) 와 동일합니다:\n",
        "    n_rows = (len(instances) - 1) // images_per_row + 1\n",
        "\n",
        "    # 필요하면 그리드 끝을 채우기 위해 빈 이미지를 추가합니다:\n",
        "    n_empty = n_rows * images_per_row - len(instances)\n",
        "    padded_instances = np.concatenate([instances, np.zeros((n_empty, size * size))], axis=0)\n",
        "\n",
        "    # 배열의 크기를 바꾸어 28×28 이미지를 담은 그리드로 구성합니다:\n",
        "    image_grid = padded_instances.reshape((n_rows, images_per_row, size, size))\n",
        "\n",
        "    # 축 0(이미지 그리드의 수직축)과 2(이미지의 수직축)를 합치고 축 1과 3(두 수평축)을 합칩니다.\n",
        "    # 먼저 transpose()를 사용해 결합하려는 축을 옆으로 이동한 다음 합칩니다:\n",
        "    big_image = image_grid.transpose(0, 2, 1, 3).reshape(n_rows * size,\n",
        "                                                         images_per_row * size)\n",
        "    # 하나의 큰 이미지를 얻었으므로 출력하면 됩니다:\n",
        "    plt.imshow(big_image, cmap = mpl.cm.binary, **options)\n",
        "    plt.axis(\"off\")"
      ]
    },
    {
      "cell_type": "code",
      "execution_count": 24,
      "metadata": {
        "execution": {
          "iopub.execute_input": "2021-11-03T03:32:33.707637Z",
          "iopub.status.busy": "2021-11-03T03:32:33.705212Z",
          "iopub.status.idle": "2021-11-03T03:32:34.615096Z",
          "shell.execute_reply": "2021-11-03T03:32:34.615530Z"
        },
        "id": "hWHGG531DqmJ",
        "outputId": "25a99842-b1f5-46f8-fb27-63ddc04a9b3c",
        "colab": {
          "base_uri": "https://localhost:8080/",
          "height": 923
        }
      },
      "outputs": [
        {
          "output_type": "stream",
          "name": "stdout",
          "text": [
            "그림 저장: more_digits_plot\n"
          ]
        },
        {
          "output_type": "display_data",
          "data": {
            "text/plain": [
              "<Figure size 900x900 with 1 Axes>"
            ],
            "image/png": "[encoded data removed]"
          },
          "metadata": {}
        }
      ],
      "source": [
        "plt.figure(figsize=(9,9))\n",
        "example_images = X[:100]\n",
        "plot_digits(example_images, images_per_row=10)\n",
        "save_fig(\"more_digits_plot\")\n",
        "plt.show()"
      ]
    },
    {
      "cell_type": "code",
      "execution_count": 25,
      "metadata": {
        "execution": {
          "iopub.execute_input": "2021-11-03T03:32:34.620464Z",
          "iopub.status.busy": "2021-11-03T03:32:34.619675Z",
          "iopub.status.idle": "2021-11-03T03:32:34.622747Z",
          "shell.execute_reply": "2021-11-03T03:32:34.623161Z"
        },
        "id": "yUxCP1EgDqmJ",
        "outputId": "93657b00-ca8f-43c6-bec1-12cd7fb43f35",
        "colab": {
          "base_uri": "https://localhost:8080/"
        }
      },
      "outputs": [
        {
          "output_type": "execute_result",
          "data": {
            "text/plain": [
              "5"
            ]
          },
          "metadata": {},
          "execution_count": 25
        }
      ],
      "source": [
        "y[0]"
      ]
    },
    {
      "cell_type": "code",
      "execution_count": 26,
      "metadata": {
        "execution": {
          "iopub.execute_input": "2021-11-03T03:32:34.627669Z",
          "iopub.status.busy": "2021-11-03T03:32:34.627082Z",
          "iopub.status.idle": "2021-11-03T03:32:34.630266Z",
          "shell.execute_reply": "2021-11-03T03:32:34.630664Z"
        },
        "id": "QjLRlEggDqmJ"
      },
      "outputs": [],
      "source": [
        "X_train, X_test, y_train, y_test = X[:60000], X[60000:], y[:60000], y[60000:]"
      ]
    },
    {
      "cell_type": "markdown",
      "metadata": {
        "id": "elkvNbEmDqmJ"
      },
      "source": [
        "# 이진 분류기 훈련"
      ]
    },
    {
      "cell_type": "markdown",
      "source": [
        "예시로, '숫자5-분류기'를 만들어보자\n",
        "\n",
        "\n",
        "*   5면 -> True\n",
        "*   5가 아니면 -> False\n",
        "\n"
      ],
      "metadata": {
        "id": "tmBDFrV3RdmV"
      }
    },
    {
      "cell_type": "code",
      "execution_count": 27,
      "metadata": {
        "execution": {
          "iopub.execute_input": "2021-11-03T03:32:34.634880Z",
          "iopub.status.busy": "2021-11-03T03:32:34.634296Z",
          "iopub.status.idle": "2021-11-03T03:32:34.637980Z",
          "shell.execute_reply": "2021-11-03T03:32:34.637484Z"
        },
        "id": "o7Bofc5gDqmJ"
      },
      "outputs": [],
      "source": [
        "y_train_5 = (y_train == 5)\n",
        "y_test_5 = (y_test == 5)"
      ]
    },
    {
      "cell_type": "markdown",
      "metadata": {
        "id": "nOUTpUqzDqmJ"
      },
      "source": [
        "**노트**: `max_iter`와 `tol` 같은 일부 매개변수는 사이킷런 다음 버전에서 기본값이 바뀝니다. 버전이 업데이트되더라도 결과가 바뀌지 않도록 아예 나중에 바뀔 기본값을 사용해 명시적으로 지정하겠습니다. 번거로움을 피하기 위해 책에는 따로 표시하지 않았습니다."
      ]
    },
    {
      "cell_type": "code",
      "execution_count": 28,
      "metadata": {
        "execution": {
          "iopub.execute_input": "2021-11-03T03:32:34.642079Z",
          "iopub.status.busy": "2021-11-03T03:32:34.641480Z",
          "iopub.status.idle": "2021-11-03T03:32:56.362088Z",
          "shell.execute_reply": "2021-11-03T03:32:56.362537Z"
        },
        "id": "PsZ_kH0-DqmJ",
        "outputId": "cbc38374-3cff-4272-d029-a35be0a9a848",
        "colab": {
          "base_uri": "https://localhost:8080/",
          "height": 80
        }
      },
      "outputs": [
        {
          "output_type": "execute_result",
          "data": {
            "text/plain": [
              "SGDClassifier(random_state=42)"
            ],
            "text/html": [
              "<style>#sk-container-id-1 {\n",
              "  /* Definition of color scheme common for light and dark mode */\n",
              "  --sklearn-color-text: #000;\n",
              "  --sklearn-color-text-muted: #666;\n",
              "  --sklearn-color-line: gray;\n",
              "  /* Definition of color scheme for unfitted estimators */\n",
              "  --sklearn-color-unfitted-level-0: #fff5e6;\n",
              "  --sklearn-color-unfitted-level-1: #f6e4d2;\n",
              "  --sklearn-color-unfitted-level-2: #ffe0b3;\n",
              "  --sklearn-color-unfitted-level-3: chocolate;\n",
              "  /* Definition of color scheme for fitted estimators */\n",
              "  --sklearn-color-fitted-level-0: #f0f8ff;\n",
              "  --sklearn-color-fitted-level-1: #d4ebff;\n",
              "  --sklearn-color-fitted-level-2: #b3dbfd;\n",
              "  --sklearn-color-fitted-level-3: cornflowerblue;\n",
              "\n",
              "  /* Specific color for light theme */\n",
              "  --sklearn-color-text-on-default-background: var(--sg-text-color, var(--theme-code-foreground, var(--jp-content-font-color1, black)));\n",
              "  --sklearn-color-background: var(--sg-background-color, var(--theme-background, var(--jp-layout-color0, white)));\n",
              "  --sklearn-color-border-box: var(--sg-text-color, var(--theme-code-foreground, var(--jp-content-font-color1, black)));\n",
              "  --sklearn-color-icon: #696969;\n",
              "\n",
              "  @media (prefers-color-scheme: dark) {\n",
              "    /* Redefinition of color scheme for dark theme */\n",
              "    --sklearn-color-text-on-default-background: var(--sg-text-color, var(--theme-code-foreground, var(--jp-content-font-color1, white)));\n",
              "    --sklearn-color-background: var(--sg-background-color, var(--theme-background, var(--jp-layout-color0, #111)));\n",
              "    --sklearn-color-border-box: var(--sg-text-color, var(--theme-code-foreground, var(--jp-content-font-color1, white)));\n",
              "    --sklearn-color-icon: #878787;\n",
              "  }\n",
              "}\n",
              "\n",
              "#sk-container-id-1 {\n",
              "  color: var(--sklearn-color-text);\n",
              "}\n",
              "\n",
              "#sk-container-id-1 pre {\n",
              "  padding: 0;\n",
              "}\n",
              "\n",
              "#sk-container-id-1 input.sk-hidden--visually {\n",
              "  border: 0;\n",
              "  clip: rect(1px 1px 1px 1px);\n",
              "  clip: rect(1px, 1px, 1px, 1px);\n",
              "  height: 1px;\n",
              "  margin: -1px;\n",
              "  overflow: hidden;\n",
              "  padding: 0;\n",
              "  position: absolute;\n",
              "  width: 1px;\n",
              "}\n",
              "\n",
              "#sk-container-id-1 div.sk-dashed-wrapped {\n",
              "  border: 1px dashed var(--sklearn-color-line);\n",
              "  margin: 0 0.4em 0.5em 0.4em;\n",
              "  box-sizing: border-box;\n",
              "  padding-bottom: 0.4em;\n",
              "  background-color: var(--sklearn-color-background);\n",
              "}\n",
              "\n",
              "#sk-container-id-1 div.sk-container {\n",
              "  /* jupyter's `normalize.less` sets `[hidden] { display: none; }`\n",
              "     but bootstrap.min.css set `[hidden] { display: none !important; }`\n",
              "     so we also need the `!important` here to be able to override the\n",
              "     default hidden behavior on the sphinx rendered scikit-learn.org.\n",
              "     See: https://github.com/scikit-learn/scikit-learn/issues/21755 */\n",
              "  display: inline-block !important;\n",
              "  position: relative;\n",
              "}\n",
              "\n",
              "#sk-container-id-1 div.sk-text-repr-fallback {\n",
              "  display: none;\n",
              "}\n",
              "\n",
              "div.sk-parallel-item,\n",
              "div.sk-serial,\n",
              "div.sk-item {\n",
              "  /* draw centered vertical line to link estimators */\n",
              "  background-image: linear-gradient(var(--sklearn-color-text-on-default-background), var(--sklearn-color-text-on-default-background));\n",
              "  background-size: 2px 100%;\n",
              "  background-repeat: no-repeat;\n",
              "  background-position: center center;\n",
              "}\n",
              "\n",
              "/* Parallel-specific style estimator block */\n",
              "\n",
              "#sk-container-id-1 div.sk-parallel-item::after {\n",
              "  content: \"\";\n",
              "  width: 100%;\n",
              "  border-bottom: 2px solid var(--sklearn-color-text-on-default-background);\n",
              "  flex-grow: 1;\n",
              "}\n",
              "\n",
              "#sk-container-id-1 div.sk-parallel {\n",
              "  display: flex;\n",
              "  align-items: stretch;\n",
              "  justify-content: center;\n",
              "  background-color: var(--sklearn-color-background);\n",
              "  position: relative;\n",
              "}\n",
              "\n",
              "#sk-container-id-1 div.sk-parallel-item {\n",
              "  display: flex;\n",
              "  flex-direction: column;\n",
              "}\n",
              "\n",
              "#sk-container-id-1 div.sk-parallel-item:first-child::after {\n",
              "  align-self: flex-end;\n",
              "  width: 50%;\n",
              "}\n",
              "\n",
              "#sk-container-id-1 div.sk-parallel-item:last-child::after {\n",
              "  align-self: flex-start;\n",
              "  width: 50%;\n",
              "}\n",
              "\n",
              "#sk-container-id-1 div.sk-parallel-item:only-child::after {\n",
              "  width: 0;\n",
              "}\n",
              "\n",
              "/* Serial-specific style estimator block */\n",
              "\n",
              "#sk-container-id-1 div.sk-serial {\n",
              "  display: flex;\n",
              "  flex-direction: column;\n",
              "  align-items: center;\n",
              "  background-color: var(--sklearn-color-background);\n",
              "  padding-right: 1em;\n",
              "  padding-left: 1em;\n",
              "}\n",
              "\n",
              "\n",
              "/* Toggleable style: style used for estimator/Pipeline/ColumnTransformer box that is\n",
              "clickable and can be expanded/collapsed.\n",
              "- Pipeline and ColumnTransformer use this feature and define the default style\n",
              "- Estimators will overwrite some part of the style using the `sk-estimator` class\n",
              "*/\n",
              "\n",
              "/* Pipeline and ColumnTransformer style (default) */\n",
              "\n",
              "#sk-container-id-1 div.sk-toggleable {\n",
              "  /* Default theme specific background. It is overwritten whether we have a\n",
              "  specific estimator or a Pipeline/ColumnTransformer */\n",
              "  background-color: var(--sklearn-color-background);\n",
              "}\n",
              "\n",
              "/* Toggleable label */\n",
              "#sk-container-id-1 label.sk-toggleable__label {\n",
              "  cursor: pointer;\n",
              "  display: flex;\n",
              "  width: 100%;\n",
              "  margin-bottom: 0;\n",
              "  padding: 0.5em;\n",
              "  box-sizing: border-box;\n",
              "  text-align: center;\n",
              "  align-items: start;\n",
              "  justify-content: space-between;\n",
              "  gap: 0.5em;\n",
              "}\n",
              "\n",
              "#sk-container-id-1 label.sk-toggleable__label .caption {\n",
              "  font-size: 0.6rem;\n",
              "  font-weight: lighter;\n",
              "  color: var(--sklearn-color-text-muted);\n",
              "}\n",
              "\n",
              "#sk-container-id-1 label.sk-toggleable__label-arrow:before {\n",
              "  /* Arrow on the left of the label */\n",
              "  content: \"▸\";\n",
              "  float: left;\n",
              "  margin-right: 0.25em;\n",
              "  color: var(--sklearn-color-icon);\n",
              "}\n",
              "\n",
              "#sk-container-id-1 label.sk-toggleable__label-arrow:hover:before {\n",
              "  color: var(--sklearn-color-text);\n",
              "}\n",
              "\n",
              "/* Toggleable content - dropdown */\n",
              "\n",
              "#sk-container-id-1 div.sk-toggleable__content {\n",
              "  max-height: 0;\n",
              "  max-width: 0;\n",
              "  overflow: hidden;\n",
              "  text-align: left;\n",
              "  /* unfitted */\n",
              "  background-color: var(--sklearn-color-unfitted-level-0);\n",
              "}\n",
              "\n",
              "#sk-container-id-1 div.sk-toggleable__content.fitted {\n",
              "  /* fitted */\n",
              "  background-color: var(--sklearn-color-fitted-level-0);\n",
              "}\n",
              "\n",
              "#sk-container-id-1 div.sk-toggleable__content pre {\n",
              "  margin: 0.2em;\n",
              "  border-radius: 0.25em;\n",
              "  color: var(--sklearn-color-text);\n",
              "  /* unfitted */\n",
              "  background-color: var(--sklearn-color-unfitted-level-0);\n",
              "}\n",
              "\n",
              "#sk-container-id-1 div.sk-toggleable__content.fitted pre {\n",
              "  /* unfitted */\n",
              "  background-color: var(--sklearn-color-fitted-level-0);\n",
              "}\n",
              "\n",
              "#sk-container-id-1 input.sk-toggleable__control:checked~div.sk-toggleable__content {\n",
              "  /* Expand drop-down */\n",
              "  max-height: 200px;\n",
              "  max-width: 100%;\n",
              "  overflow: auto;\n",
              "}\n",
              "\n",
              "#sk-container-id-1 input.sk-toggleable__control:checked~label.sk-toggleable__label-arrow:before {\n",
              "  content: \"▾\";\n",
              "}\n",
              "\n",
              "/* Pipeline/ColumnTransformer-specific style */\n",
              "\n",
              "#sk-container-id-1 div.sk-label input.sk-toggleable__control:checked~label.sk-toggleable__label {\n",
              "  color: var(--sklearn-color-text);\n",
              "  background-color: var(--sklearn-color-unfitted-level-2);\n",
              "}\n",
              "\n",
              "#sk-container-id-1 div.sk-label.fitted input.sk-toggleable__control:checked~label.sk-toggleable__label {\n",
              "  background-color: var(--sklearn-color-fitted-level-2);\n",
              "}\n",
              "\n",
              "/* Estimator-specific style */\n",
              "\n",
              "/* Colorize estimator box */\n",
              "#sk-container-id-1 div.sk-estimator input.sk-toggleable__control:checked~label.sk-toggleable__label {\n",
              "  /* unfitted */\n",
              "  background-color: var(--sklearn-color-unfitted-level-2);\n",
              "}\n",
              "\n",
              "#sk-container-id-1 div.sk-estimator.fitted input.sk-toggleable__control:checked~label.sk-toggleable__label {\n",
              "  /* fitted */\n",
              "  background-color: var(--sklearn-color-fitted-level-2);\n",
              "}\n",
              "\n",
              "#sk-container-id-1 div.sk-label label.sk-toggleable__label,\n",
              "#sk-container-id-1 div.sk-label label {\n",
              "  /* The background is the default theme color */\n",
              "  color: var(--sklearn-color-text-on-default-background);\n",
              "}\n",
              "\n",
              "/* On hover, darken the color of the background */\n",
              "#sk-container-id-1 div.sk-label:hover label.sk-toggleable__label {\n",
              "  color: var(--sklearn-color-text);\n",
              "  background-color: var(--sklearn-color-unfitted-level-2);\n",
              "}\n",
              "\n",
              "/* Label box, darken color on hover, fitted */\n",
              "#sk-container-id-1 div.sk-label.fitted:hover label.sk-toggleable__label.fitted {\n",
              "  color: var(--sklearn-color-text);\n",
              "  background-color: var(--sklearn-color-fitted-level-2);\n",
              "}\n",
              "\n",
              "/* Estimator label */\n",
              "\n",
              "#sk-container-id-1 div.sk-label label {\n",
              "  font-family: monospace;\n",
              "  font-weight: bold;\n",
              "  display: inline-block;\n",
              "  line-height: 1.2em;\n",
              "}\n",
              "\n",
              "#sk-container-id-1 div.sk-label-container {\n",
              "  text-align: center;\n",
              "}\n",
              "\n",
              "/* Estimator-specific */\n",
              "#sk-container-id-1 div.sk-estimator {\n",
              "  font-family: monospace;\n",
              "  border: 1px dotted var(--sklearn-color-border-box);\n",
              "  border-radius: 0.25em;\n",
              "  box-sizing: border-box;\n",
              "  margin-bottom: 0.5em;\n",
              "  /* unfitted */\n",
              "  background-color: var(--sklearn-color-unfitted-level-0);\n",
              "}\n",
              "\n",
              "#sk-container-id-1 div.sk-estimator.fitted {\n",
              "  /* fitted */\n",
              "  background-color: var(--sklearn-color-fitted-level-0);\n",
              "}\n",
              "\n",
              "/* on hover */\n",
              "#sk-container-id-1 div.sk-estimator:hover {\n",
              "  /* unfitted */\n",
              "  background-color: var(--sklearn-color-unfitted-level-2);\n",
              "}\n",
              "\n",
              "#sk-container-id-1 div.sk-estimator.fitted:hover {\n",
              "  /* fitted */\n",
              "  background-color: var(--sklearn-color-fitted-level-2);\n",
              "}\n",
              "\n",
              "/* Specification for estimator info (e.g. \"i\" and \"?\") */\n",
              "\n",
              "/* Common style for \"i\" and \"?\" */\n",
              "\n",
              ".sk-estimator-doc-link,\n",
              "a:link.sk-estimator-doc-link,\n",
              "a:visited.sk-estimator-doc-link {\n",
              "  float: right;\n",
              "  font-size: smaller;\n",
              "  line-height: 1em;\n",
              "  font-family: monospace;\n",
              "  background-color: var(--sklearn-color-background);\n",
              "  border-radius: 1em;\n",
              "  height: 1em;\n",
              "  width: 1em;\n",
              "  text-decoration: none !important;\n",
              "  margin-left: 0.5em;\n",
              "  text-align: center;\n",
              "  /* unfitted */\n",
              "  border: var(--sklearn-color-unfitted-level-1) 1pt solid;\n",
              "  color: var(--sklearn-color-unfitted-level-1);\n",
              "}\n",
              "\n",
              ".sk-estimator-doc-link.fitted,\n",
              "a:link.sk-estimator-doc-link.fitted,\n",
              "a:visited.sk-estimator-doc-link.fitted {\n",
              "  /* fitted */\n",
              "  border: var(--sklearn-color-fitted-level-1) 1pt solid;\n",
              "  color: var(--sklearn-color-fitted-level-1);\n",
              "}\n",
              "\n",
              "/* On hover */\n",
              "div.sk-estimator:hover .sk-estimator-doc-link:hover,\n",
              ".sk-estimator-doc-link:hover,\n",
              "div.sk-label-container:hover .sk-estimator-doc-link:hover,\n",
              ".sk-estimator-doc-link:hover {\n",
              "  /* unfitted */\n",
              "  background-color: var(--sklearn-color-unfitted-level-3);\n",
              "  color: var(--sklearn-color-background);\n",
              "  text-decoration: none;\n",
              "}\n",
              "\n",
              "div.sk-estimator.fitted:hover .sk-estimator-doc-link.fitted:hover,\n",
              ".sk-estimator-doc-link.fitted:hover,\n",
              "div.sk-label-container:hover .sk-estimator-doc-link.fitted:hover,\n",
              ".sk-estimator-doc-link.fitted:hover {\n",
              "  /* fitted */\n",
              "  background-color: var(--sklearn-color-fitted-level-3);\n",
              "  color: var(--sklearn-color-background);\n",
              "  text-decoration: none;\n",
              "}\n",
              "\n",
              "/* Span, style for the box shown on hovering the info icon */\n",
              ".sk-estimator-doc-link span {\n",
              "  display: none;\n",
              "  z-index: 9999;\n",
              "  position: relative;\n",
              "  font-weight: normal;\n",
              "  right: .2ex;\n",
              "  padding: .5ex;\n",
              "  margin: .5ex;\n",
              "  width: min-content;\n",
              "  min-width: 20ex;\n",
              "  max-width: 50ex;\n",
              "  color: var(--sklearn-color-text);\n",
              "  box-shadow: 2pt 2pt 4pt #999;\n",
              "  /* unfitted */\n",
              "  background: var(--sklearn-color-unfitted-level-0);\n",
              "  border: .5pt solid var(--sklearn-color-unfitted-level-3);\n",
              "}\n",
              "\n",
              ".sk-estimator-doc-link.fitted span {\n",
              "  /* fitted */\n",
              "  background: var(--sklearn-color-fitted-level-0);\n",
              "  border: var(--sklearn-color-fitted-level-3);\n",
              "}\n",
              "\n",
              ".sk-estimator-doc-link:hover span {\n",
              "  display: block;\n",
              "}\n",
              "\n",
              "/* \"?\"-specific style due to the `<a>` HTML tag */\n",
              "\n",
              "#sk-container-id-1 a.estimator_doc_link {\n",
              "  float: right;\n",
              "  font-size: 1rem;\n",
              "  line-height: 1em;\n",
              "  font-family: monospace;\n",
              "  background-color: var(--sklearn-color-background);\n",
              "  border-radius: 1rem;\n",
              "  height: 1rem;\n",
              "  width: 1rem;\n",
              "  text-decoration: none;\n",
              "  /* unfitted */\n",
              "  color: var(--sklearn-color-unfitted-level-1);\n",
              "  border: var(--sklearn-color-unfitted-level-1) 1pt solid;\n",
              "}\n",
              "\n",
              "#sk-container-id-1 a.estimator_doc_link.fitted {\n",
              "  /* fitted */\n",
              "  border: var(--sklearn-color-fitted-level-1) 1pt solid;\n",
              "  color: var(--sklearn-color-fitted-level-1);\n",
              "}\n",
              "\n",
              "/* On hover */\n",
              "#sk-container-id-1 a.estimator_doc_link:hover {\n",
              "  /* unfitted */\n",
              "  background-color: var(--sklearn-color-unfitted-level-3);\n",
              "  color: var(--sklearn-color-background);\n",
              "  text-decoration: none;\n",
              "}\n",
              "\n",
              "#sk-container-id-1 a.estimator_doc_link.fitted:hover {\n",
              "  /* fitted */\n",
              "  background-color: var(--sklearn-color-fitted-level-3);\n",
              "}\n",
              "</style><div id=\"sk-container-id-1\" class=\"sk-top-container\"><div class=\"sk-text-repr-fallback\"><pre>SGDClassifier(random_state=42)</pre><b>In a Jupyter environment, please rerun this cell to show the HTML representation or trust the notebook. <br />On GitHub, the HTML representation is unable to render, please try loading this page with nbviewer.org.</b></div><div class=\"sk-container\" hidden><div class=\"sk-item\"><div class=\"sk-estimator fitted sk-toggleable\"><input class=\"sk-toggleable__control sk-hidden--visually\" id=\"sk-estimator-id-1\" type=\"checkbox\" checked><label for=\"sk-estimator-id-1\" class=\"sk-toggleable__label fitted sk-toggleable__label-arrow\"><div><div>SGDClassifier</div></div><div><a class=\"sk-estimator-doc-link fitted\" rel=\"noreferrer\" target=\"_blank\" href=\"https://scikit-learn.org/1.6/modules/generated/sklearn.linear_model.SGDClassifier.html\">?<span>Documentation for SGDClassifier</span></a><span class=\"sk-estimator-doc-link fitted\">i<span>Fitted</span></span></div></label><div class=\"sk-toggleable__content fitted\"><pre>SGDClassifier(random_state=42)</pre></div> </div></div></div></div>"
            ]
          },
          "metadata": {},
          "execution_count": 28
        }
      ],
      "source": [
        "from sklearn.linear_model import SGDClassifier\n",
        "\n",
        "sgd_clf = SGDClassifier(max_iter=1000, tol=1e-3, random_state=42)\n",
        "sgd_clf.fit(X_train, y_train_5)"
      ]
    },
    {
      "cell_type": "code",
      "execution_count": 29,
      "metadata": {
        "execution": {
          "iopub.execute_input": "2021-11-03T03:32:56.366400Z",
          "iopub.status.busy": "2021-11-03T03:32:56.365756Z",
          "iopub.status.idle": "2021-11-03T03:32:56.371682Z",
          "shell.execute_reply": "2021-11-03T03:32:56.372082Z"
        },
        "id": "8YGiynp3DqmK",
        "outputId": "95c8b822-5f7a-4644-9f55-79891eb2b17d",
        "colab": {
          "base_uri": "https://localhost:8080/"
        }
      },
      "outputs": [
        {
          "output_type": "execute_result",
          "data": {
            "text/plain": [
              "array([ True])"
            ]
          },
          "metadata": {},
          "execution_count": 29
        }
      ],
      "source": [
        "sgd_clf.predict([some_digit]) # 아까 위에서 확인했던 맨 첫번째 샘플이 5였고, True가 나오니까 맞는 예측임을 알 수 있음"
      ]
    },
    {
      "cell_type": "code",
      "execution_count": 30,
      "metadata": {
        "execution": {
          "iopub.execute_input": "2021-11-03T03:32:56.376737Z",
          "iopub.status.busy": "2021-11-03T03:32:56.375886Z",
          "iopub.status.idle": "2021-11-03T03:33:25.644040Z",
          "shell.execute_reply": "2021-11-03T03:33:25.643273Z"
        },
        "id": "k11PzRKpDqmK",
        "outputId": "f3f1dbff-8263-456b-bfbf-c290d3b2571c",
        "colab": {
          "base_uri": "https://localhost:8080/"
        }
      },
      "outputs": [
        {
          "output_type": "execute_result",
          "data": {
            "text/plain": [
              "array([0.95035, 0.96035, 0.9604 ])"
            ]
          },
          "metadata": {},
          "execution_count": 30
        }
      ],
      "source": [
        "from sklearn.model_selection import cross_val_score\n",
        "cross_val_score(sgd_clf, X_train, y_train_5, cv=3, scoring=\"accuracy\")"
      ]
    },
    {
      "cell_type": "markdown",
      "metadata": {
        "id": "XUNAWvpLDqmK"
      },
      "source": [
        "# 성능 측정"
      ]
    },
    {
      "cell_type": "markdown",
      "metadata": {
        "id": "XAa8e3CNDqmK"
      },
      "source": [
        "## 교차 검증을 사용한 정확도 측정"
      ]
    },
    {
      "cell_type": "code",
      "execution_count": 33,
      "metadata": {
        "execution": {
          "iopub.execute_input": "2021-11-03T03:33:25.653675Z",
          "iopub.status.busy": "2021-11-03T03:33:25.652742Z",
          "iopub.status.idle": "2021-11-03T03:34:02.413348Z",
          "shell.execute_reply": "2021-11-03T03:34:02.414606Z"
        },
        "id": "XTF7MwqeDqmK",
        "outputId": "34c201b2-fa49-44aa-a1bd-792a5a2d579d",
        "colab": {
          "base_uri": "https://localhost:8080/"
        }
      },
      "outputs": [
        {
          "output_type": "execute_result",
          "data": {
            "text/plain": [
              "array([0.9669 , 0.91625, 0.96785])"
            ]
          },
          "metadata": {},
          "execution_count": 33
        }
      ],
      "source": [
        "from sklearn.model_selection import StratifiedKFold\n",
        "from sklearn.base import clone\n",
        "\n",
        "# shuffle=False가 기본값이기 때문에 random_state를 삭제하던지 shuffle=True로 지정하라는 경고가 발생합니다.\n",
        "# 0.24버전부터는 에러가 발생할 예정이므로 향후 버전을 위해 shuffle=True을 지정합니다.\n",
        "skfolds = StratifiedKFold(n_splits=3, random_state=42, shuffle=True)\n",
        "cross_val_score(sgd_clf, X_train, y_train_5, cv=skfolds)\n",
        "\n",
        "# for train_index, test_index in skfolds.split(X_train, y_train_5):\n",
        "#     clone_clf = clone(sgd_clf)\n",
        "#     X_train_folds = X_train[train_index]\n",
        "#     y_train_folds = y_train_5[train_index]\n",
        "#     X_test_fold = X_train[test_index]\n",
        "#     y_test_fold = y_train_5[test_index]\n",
        "\n",
        "#     clone_clf.fit(X_train_folds, y_train_folds)\n",
        "#     y_pred = clone_clf.predict(X_test_fold)\n",
        "#     n_correct = sum(y_pred == y_test_fold)\n",
        "#     print(n_correct / len(y_pred))"
      ]
    },
    {
      "cell_type": "markdown",
      "source": [
        "이게 정확도가 높게 나오는 것 같긴 한데 좋은 모델은 아님\n",
        "\n",
        "\n",
        "그 이유 아래 참고"
      ],
      "metadata": {
        "id": "TrcTEtHMWn76"
      }
    },
    {
      "cell_type": "code",
      "execution_count": 34,
      "metadata": {
        "execution": {
          "iopub.execute_input": "2021-11-03T03:34:02.423938Z",
          "iopub.status.busy": "2021-11-03T03:34:02.422861Z",
          "iopub.status.idle": "2021-11-03T03:34:02.428518Z",
          "shell.execute_reply": "2021-11-03T03:34:02.427156Z"
        },
        "id": "WJt3rY7aDqmK"
      },
      "outputs": [],
      "source": [
        "from sklearn.base import BaseEstimator\n",
        "class Never5Classifier(BaseEstimator):\n",
        "    def fit(self, X, y=None):\n",
        "        pass\n",
        "    def predict(self, X):\n",
        "        return np.zeros((len(X), 1), dtype=bool)"
      ]
    },
    {
      "cell_type": "code",
      "execution_count": 35,
      "metadata": {
        "execution": {
          "iopub.execute_input": "2021-11-03T03:34:02.435717Z",
          "iopub.status.busy": "2021-11-03T03:34:02.434648Z",
          "iopub.status.idle": "2021-11-03T03:34:02.954821Z",
          "shell.execute_reply": "2021-11-03T03:34:02.954238Z"
        },
        "id": "tbQ99cHJDqmK",
        "outputId": "0812d22f-0277-42a2-96ae-b6029358c84c",
        "colab": {
          "base_uri": "https://localhost:8080/"
        }
      },
      "outputs": [
        {
          "output_type": "execute_result",
          "data": {
            "text/plain": [
              "array([0.91125, 0.90855, 0.90915])"
            ]
          },
          "metadata": {},
          "execution_count": 35
        }
      ],
      "source": [
        "never_5_clf = Never5Classifier()\n",
        "cross_val_score(never_5_clf, X_train, y_train_5, cv=3, scoring=\"accuracy\")"
      ]
    },
    {
      "cell_type": "markdown",
      "source": [
        "이미지의 10% 정도밖에 숫자 5이기 때문에 무조건 '5 아님'으로 예측하기만 해도 맞출 확률이 90%이상이라 그렇다 (좋은 모델 X)\n",
        "\n",
        "'불균형한 클래스'의 문제"
      ],
      "metadata": {
        "id": "jl0sDy1-W03q"
      }
    },
    {
      "cell_type": "markdown",
      "metadata": {
        "id": "6-LPcZPoDqmK"
      },
      "source": [
        "노트: 이 출력(그리고 이 노트북과 다른 노트북의 출력)이 책의 내용과 조금 다를 수 있습니다. 걱정할 필요 없습니다. 괜찮습니다! 달라지는 이유가 몇가지 있습니다:\n",
        "\n",
        "* 첫째, 사이킷런과 다른 라이브러리들이 발전하면서 알고리즘이 조금씩 변경되기 때문에 얻어지는 결괏값이 바뀔 수 있습니다. 최신 사이킷런 버전을 사용한다면(일반적으로 권장됩니다) 책이나 이 노트북을 만들 때 사용한 버전과 다를 것이므로 차이가 납니다. 노트북은 최신으로 업데이트하려고 노력하지만 책의 내용은 그렇게 할 수 없습니다.\n",
        "* 둘째, 많은 훈련 알고리즘은 확률적입니다. 즉 무작위성에 의존합니다. 이론적으로 의사 난수를 생성하도록 난순 생성기에 시드 값을 지정하여 일관된 결과를 얻을 수 있습니다(random_state=42나 np.random.seed(42)를 종종 보게 되는 이유입니다). 하지만 여기에서 언급한 다른 요인으로 인해 충분하지 않을 때가 있습니다.\n",
        "* 세째, 훈련 알고리즘이 여러 스레드(C로 구현된 알고리즘)나 여러 프로세스(예를 들어 n_jobs 매개변수를 사용할 때)로 실행되면 연산이 실행되는 정확한 순서가 항상 보장되지 않습니다. 따라서 결괏값이 조금 다를 수 있습니다.\n",
        "* 마지막으로, 여러 세션에 결쳐 순서가 보장되지 않는 파이썬 딕셔너리(dict)이나 셋(set) 같은 것은 완벽한 재현성이 불가능합니다. 또한 디렉토리 안에 있는 파일의 순서도 보장되지 않습니다."
      ]
    },
    {
      "cell_type": "markdown",
      "metadata": {
        "id": "8KNSyf3VDqmL"
      },
      "source": [
        "## 오차 행렬"
      ]
    },
    {
      "cell_type": "code",
      "execution_count": 36,
      "metadata": {
        "execution": {
          "iopub.execute_input": "2021-11-03T03:34:02.960008Z",
          "iopub.status.busy": "2021-11-03T03:34:02.959076Z",
          "iopub.status.idle": "2021-11-03T03:34:32.091806Z",
          "shell.execute_reply": "2021-11-03T03:34:32.092609Z"
        },
        "id": "gkkxxn8zDqmL"
      },
      "outputs": [],
      "source": [
        "from sklearn.model_selection import cross_val_predict\n",
        "\n",
        "y_train_pred = cross_val_predict(sgd_clf, X_train, y_train_5, cv=3) # 경사하강법으로, 교차 검증 과정을 거치면서 학습시킴"
      ]
    },
    {
      "cell_type": "code",
      "execution_count": 37,
      "metadata": {
        "execution": {
          "iopub.execute_input": "2021-11-03T03:34:32.098479Z",
          "iopub.status.busy": "2021-11-03T03:34:32.096226Z",
          "iopub.status.idle": "2021-11-03T03:34:32.120779Z",
          "shell.execute_reply": "2021-11-03T03:34:32.121490Z"
        },
        "id": "7lwo4Z9oDqmL",
        "outputId": "ecfddef9-3a3f-4825-f597-d5d936b55db4",
        "colab": {
          "base_uri": "https://localhost:8080/"
        }
      },
      "outputs": [
        {
          "output_type": "execute_result",
          "data": {
            "text/plain": [
              "array([[53892,   687],\n",
              "       [ 1891,  3530]])"
            ]
          },
          "metadata": {},
          "execution_count": 37
        }
      ],
      "source": [
        "from sklearn.metrics import confusion_matrix\n",
        "\n",
        "# confusion_matrix = 오차 행렬\n",
        "# 오차의 개수\n",
        "\n",
        "confusion_matrix(y_train_5, y_train_pred)"
      ]
    },
    {
      "cell_type": "code",
      "execution_count": 38,
      "metadata": {
        "execution": {
          "iopub.execute_input": "2021-11-03T03:34:32.127484Z",
          "iopub.status.busy": "2021-11-03T03:34:32.125500Z",
          "iopub.status.idle": "2021-11-03T03:34:32.152390Z",
          "shell.execute_reply": "2021-11-03T03:34:32.153126Z"
        },
        "id": "OuNRUMgrDqmL",
        "outputId": "a910b465-439f-4933-cccd-884817bee362",
        "colab": {
          "base_uri": "https://localhost:8080/"
        }
      },
      "outputs": [
        {
          "output_type": "execute_result",
          "data": {
            "text/plain": [
              "array([[54579,     0],\n",
              "       [    0,  5421]])"
            ]
          },
          "metadata": {},
          "execution_count": 38
        }
      ],
      "source": [
        "y_train_perfect_predictions = y_train_5  # 완변한척 하자\n",
        "confusion_matrix(y_train_5, y_train_perfect_predictions)"
      ]
    },
    {
      "cell_type": "markdown",
      "metadata": {
        "id": "q8B1wyyqDqmL"
      },
      "source": [
        "## 정밀도와 재현율"
      ]
    },
    {
      "cell_type": "code",
      "execution_count": 39,
      "metadata": {
        "execution": {
          "iopub.execute_input": "2021-11-03T03:34:32.160304Z",
          "iopub.status.busy": "2021-11-03T03:34:32.159270Z",
          "iopub.status.idle": "2021-11-03T03:34:32.215073Z",
          "shell.execute_reply": "2021-11-03T03:34:32.215513Z"
        },
        "id": "rn0Cv24YDqmL",
        "outputId": "97110240-57d7-42f2-c14b-9420de136dfb",
        "colab": {
          "base_uri": "https://localhost:8080/"
        }
      },
      "outputs": [
        {
          "output_type": "execute_result",
          "data": {
            "text/plain": [
              "0.8370879772350012"
            ]
          },
          "metadata": {},
          "execution_count": 39
        }
      ],
      "source": [
        "from sklearn.metrics import precision_score, recall_score\n",
        "\n",
        "precision_score(y_train_5, y_train_pred)"
      ]
    },
    {
      "cell_type": "code",
      "execution_count": 40,
      "metadata": {
        "execution": {
          "iopub.execute_input": "2021-11-03T03:34:32.220412Z",
          "iopub.status.busy": "2021-11-03T03:34:32.219769Z",
          "iopub.status.idle": "2021-11-03T03:34:32.234206Z",
          "shell.execute_reply": "2021-11-03T03:34:32.233668Z"
        },
        "id": "PoFFHFyfDqmL",
        "outputId": "b0c35de8-b7f8-4337-bd12-54bee81da242",
        "colab": {
          "base_uri": "https://localhost:8080/"
        }
      },
      "outputs": [
        {
          "output_type": "execute_result",
          "data": {
            "text/plain": [
              "0.8370879772350012"
            ]
          },
          "metadata": {},
          "execution_count": 40
        }
      ],
      "source": [
        "cm = confusion_matrix(y_train_5, y_train_pred)\n",
        "cm[1, 1] / (cm[0, 1] + cm[1, 1])"
      ]
    },
    {
      "cell_type": "code",
      "execution_count": 41,
      "metadata": {
        "execution": {
          "iopub.execute_input": "2021-11-03T03:34:32.239169Z",
          "iopub.status.busy": "2021-11-03T03:34:32.238280Z",
          "iopub.status.idle": "2021-11-03T03:34:32.260924Z",
          "shell.execute_reply": "2021-11-03T03:34:32.261346Z"
        },
        "id": "xErdcgcHDqmL",
        "outputId": "8db4fcb2-51aa-4d01-f855-0ae24863fc4a",
        "colab": {
          "base_uri": "https://localhost:8080/"
        }
      },
      "outputs": [
        {
          "output_type": "execute_result",
          "data": {
            "text/plain": [
              "0.6511713705958311"
            ]
          },
          "metadata": {},
          "execution_count": 41
        }
      ],
      "source": [
        "recall_score(y_train_5, y_train_pred)"
      ]
    },
    {
      "cell_type": "code",
      "execution_count": 42,
      "metadata": {
        "execution": {
          "iopub.execute_input": "2021-11-03T03:34:32.265801Z",
          "iopub.status.busy": "2021-11-03T03:34:32.265196Z",
          "iopub.status.idle": "2021-11-03T03:34:32.268826Z",
          "shell.execute_reply": "2021-11-03T03:34:32.268325Z"
        },
        "id": "Z71C5UDTDqmM",
        "outputId": "8308d3b4-c497-4700-a4b3-15db641933f5",
        "colab": {
          "base_uri": "https://localhost:8080/"
        }
      },
      "outputs": [
        {
          "output_type": "execute_result",
          "data": {
            "text/plain": [
              "0.6511713705958311"
            ]
          },
          "metadata": {},
          "execution_count": 42
        }
      ],
      "source": [
        "cm[1, 1] / (cm[1, 0] + cm[1, 1])"
      ]
    },
    {
      "cell_type": "code",
      "execution_count": 43,
      "metadata": {
        "execution": {
          "iopub.execute_input": "2021-11-03T03:34:32.272444Z",
          "iopub.status.busy": "2021-11-03T03:34:32.271863Z",
          "iopub.status.idle": "2021-11-03T03:34:32.293918Z",
          "shell.execute_reply": "2021-11-03T03:34:32.294315Z"
        },
        "id": "cx_p1SAhDqmQ",
        "outputId": "de7e394f-e571-49c2-f103-811a2b94e65c",
        "colab": {
          "base_uri": "https://localhost:8080/"
        }
      },
      "outputs": [
        {
          "output_type": "execute_result",
          "data": {
            "text/plain": [
              "0.7325171197343847"
            ]
          },
          "metadata": {},
          "execution_count": 43
        }
      ],
      "source": [
        "from sklearn.metrics import f1_score\n",
        "\n",
        "f1_score(y_train_5, y_train_pred)"
      ]
    },
    {
      "cell_type": "code",
      "execution_count": 44,
      "metadata": {
        "execution": {
          "iopub.execute_input": "2021-11-03T03:34:32.299202Z",
          "iopub.status.busy": "2021-11-03T03:34:32.298608Z",
          "iopub.status.idle": "2021-11-03T03:34:32.304017Z",
          "shell.execute_reply": "2021-11-03T03:34:32.304413Z"
        },
        "id": "dLDCG8dEDqmQ",
        "outputId": "4e5386f9-08e6-4143-da09-8c987147ecc6",
        "colab": {
          "base_uri": "https://localhost:8080/"
        }
      },
      "outputs": [
        {
          "output_type": "execute_result",
          "data": {
            "text/plain": [
              "0.7325171197343847"
            ]
          },
          "metadata": {},
          "execution_count": 44
        }
      ],
      "source": [
        "cm[1, 1] / (cm[1, 1] + (cm[1, 0] + cm[0, 1]) / 2)"
      ]
    },
    {
      "cell_type": "markdown",
      "metadata": {
        "id": "7_TSj-eYDqmQ"
      },
      "source": [
        "## 정밀도/재현율 트레이드오프"
      ]
    },
    {
      "cell_type": "code",
      "execution_count": 45,
      "metadata": {
        "execution": {
          "iopub.execute_input": "2021-11-03T03:34:32.310401Z",
          "iopub.status.busy": "2021-11-03T03:34:32.309809Z",
          "iopub.status.idle": "2021-11-03T03:34:32.314372Z",
          "shell.execute_reply": "2021-11-03T03:34:32.314802Z"
        },
        "id": "YuMn81vADqmQ",
        "outputId": "5ca09315-3cbc-4147-8c4e-538fd6eacc0b",
        "colab": {
          "base_uri": "https://localhost:8080/"
        }
      },
      "outputs": [
        {
          "output_type": "execute_result",
          "data": {
            "text/plain": [
              "array([2164.22030239])"
            ]
          },
          "metadata": {},
          "execution_count": 45
        }
      ],
      "source": [
        "y_scores = sgd_clf.decision_function([some_digit]) # 이번엔 '결정 함수' 분류기를 사용\n",
        "y_scores"
      ]
    },
    {
      "cell_type": "code",
      "execution_count": 60,
      "metadata": {
        "execution": {
          "iopub.execute_input": "2021-11-03T03:34:32.320134Z",
          "iopub.status.busy": "2021-11-03T03:34:32.318541Z",
          "iopub.status.idle": "2021-11-03T03:34:32.320795Z",
          "shell.execute_reply": "2021-11-03T03:34:32.321218Z"
        },
        "id": "-Rc3KikLDqmQ"
      },
      "outputs": [],
      "source": [
        "threshold = 0 # 임곗값: 보다 크면 양성 클래스, 낮으면 음성 클래스로 분류\n",
        "\n",
        "y_some_digit_pred = (y_scores > threshold)"
      ]
    },
    {
      "cell_type": "code",
      "execution_count": 47,
      "metadata": {
        "execution": {
          "iopub.execute_input": "2021-11-03T03:34:32.325627Z",
          "iopub.status.busy": "2021-11-03T03:34:32.324875Z",
          "iopub.status.idle": "2021-11-03T03:34:32.328513Z",
          "shell.execute_reply": "2021-11-03T03:34:32.328973Z"
        },
        "id": "eJ9j6_yiDqmQ",
        "outputId": "de15f003-93ff-4359-a41f-165e88e302fe",
        "colab": {
          "base_uri": "https://localhost:8080/"
        }
      },
      "outputs": [
        {
          "output_type": "execute_result",
          "data": {
            "text/plain": [
              "array([ True])"
            ]
          },
          "metadata": {},
          "execution_count": 47
        }
      ],
      "source": [
        "y_some_digit_pred"
      ]
    },
    {
      "cell_type": "code",
      "execution_count": 48,
      "metadata": {
        "execution": {
          "iopub.execute_input": "2021-11-03T03:34:32.332170Z",
          "iopub.status.busy": "2021-11-03T03:34:32.331274Z",
          "iopub.status.idle": "2021-11-03T03:34:32.335954Z",
          "shell.execute_reply": "2021-11-03T03:34:32.336446Z"
        },
        "id": "yk4BNYjoDqmR",
        "outputId": "c04d76c8-6a31-4576-cc93-90f8aab33363",
        "colab": {
          "base_uri": "https://localhost:8080/"
        }
      },
      "outputs": [
        {
          "output_type": "execute_result",
          "data": {
            "text/plain": [
              "array([False])"
            ]
          },
          "metadata": {},
          "execution_count": 48
        }
      ],
      "source": [
        "threshold = 8000\n",
        "y_some_digit_pred = (y_scores > threshold)\n",
        "y_some_digit_pred"
      ]
    },
    {
      "cell_type": "markdown",
      "source": [
        "임곗값 증가\n",
        "\n",
        "\n",
        "*   정밀도 상승\n",
        "*   재현율 하락\n",
        "\n",
        "임곗값 감소\n",
        "\n",
        "\n",
        "*   정밀도 하락\n",
        "*   재현율 상승\n",
        "\n",
        "\n",
        "\n",
        "\n"
      ],
      "metadata": {
        "id": "Bz24gEPnfMeh"
      }
    },
    {
      "cell_type": "code",
      "execution_count": 68,
      "metadata": {
        "execution": {
          "iopub.execute_input": "2021-11-03T03:34:32.339653Z",
          "iopub.status.busy": "2021-11-03T03:34:32.338770Z",
          "iopub.status.idle": "2021-11-03T03:35:01.502391Z",
          "shell.execute_reply": "2021-11-03T03:35:01.503266Z"
        },
        "id": "hAokMQK2DqmR",
        "outputId": "da1c092c-e942-44af-a2a7-1defa06014cb",
        "colab": {
          "base_uri": "https://localhost:8080/"
        }
      },
      "outputs": [
        {
          "output_type": "execute_result",
          "data": {
            "text/plain": [
              "array([  1200.93051237, -26883.79202424, -33072.03475406, ...,\n",
              "        13272.12718981,  -7258.47203373, -16877.50840447])"
            ]
          },
          "metadata": {},
          "execution_count": 68
        }
      ],
      "source": [
        "y_scores = cross_val_predict(sgd_clf, X_train, y_train_5, cv=3,\n",
        "                             method=\"decision_function\")\n",
        "y_scores"
      ]
    },
    {
      "cell_type": "markdown",
      "source": [
        "두 세트에서 훈련을 하고, 나머지 한 세트에서 검증을 하도록, 훈련 셋안에서 자체적으로 훈련-테스트를 거듭하도록 한다."
      ],
      "metadata": {
        "id": "S2OY8668cWjM"
      }
    },
    {
      "cell_type": "markdown",
      "source": [
        "찐최종 테스트셋은 정말 모든 모델 학습이 끝난 후에 편향을 주지 않도록 최대한 보존한다는 개념으로 이해하자"
      ],
      "metadata": {
        "id": "EOjfSkFYcWgd"
      }
    },
    {
      "cell_type": "markdown",
      "source": [
        "정밀도(precision)-재현율(recall)곡선"
      ],
      "metadata": {
        "id": "9QfnJh4FclYG"
      }
    },
    {
      "cell_type": "code",
      "execution_count": 50,
      "metadata": {
        "execution": {
          "iopub.execute_input": "2021-11-03T03:35:01.508559Z",
          "iopub.status.busy": "2021-11-03T03:35:01.507503Z",
          "iopub.status.idle": "2021-11-03T03:35:01.531806Z",
          "shell.execute_reply": "2021-11-03T03:35:01.532578Z"
        },
        "id": "ocN7iNkfDqmR"
      },
      "outputs": [],
      "source": [
        "from sklearn.metrics import precision_recall_curve\n",
        "\n",
        "precisions, recalls, thresholds = precision_recall_curve(y_train_5 , y_scores) # (실제값, 예측값)"
      ]
    },
    {
      "cell_type": "code",
      "execution_count": 51,
      "metadata": {
        "execution": {
          "iopub.execute_input": "2021-11-03T03:35:01.548587Z",
          "iopub.status.busy": "2021-11-03T03:35:01.547475Z",
          "iopub.status.idle": "2021-11-03T03:35:02.148641Z",
          "shell.execute_reply": "2021-11-03T03:35:02.149094Z"
        },
        "id": "cIoZMOaGDqmR",
        "outputId": "bb2179e7-d481-4be5-c26e-18b7f5929628",
        "colab": {
          "base_uri": "https://localhost:8080/",
          "height": 424
        }
      },
      "outputs": [
        {
          "output_type": "stream",
          "name": "stdout",
          "text": [
            "그림 저장: precision_recall_vs_threshold_plot\n"
          ]
        },
        {
          "output_type": "display_data",
          "data": {
            "text/plain": [
              "<Figure size 800x400 with 1 Axes>"
            ],
            "image/png": "[encoded data removed]"
          },
          "metadata": {}
        }
      ],
      "source": [
        "def plot_precision_recall_vs_threshold(precisions, recalls, thresholds):\n",
        "    plt.plot(thresholds, precisions[:-1], \"b--\", label=\"Precision\", linewidth=2) # 정밀도 - x축\n",
        "    plt.plot(thresholds, recalls[:-1], \"g-\", label=\"Recall\", linewidth=2) # 재현율 - y축\n",
        "\n",
        "    plt.legend(loc=\"center right\", fontsize=16) # Not shown in the book\n",
        "    plt.xlabel(\"Threshold\", fontsize=16)        # Not shown\n",
        "    plt.grid(True)                              # Not shown\n",
        "    plt.axis([-50000, 50000, 0, 1])             # Not shown\n",
        "\n",
        "\n",
        "\n",
        "recall_90_precision = recalls[np.argmax(precisions >= 0.90)]\n",
        "threshold_90_precision = thresholds[np.argmax(precisions >= 0.90)]\n",
        "\n",
        "\n",
        "plt.figure(figsize=(8, 4))                                                                  # Not shown\n",
        "plot_precision_recall_vs_threshold(precisions, recalls, thresholds)\n",
        "plt.plot([threshold_90_precision, threshold_90_precision], [0., 0.9], \"r:\")                 # Not shown\n",
        "plt.plot([-50000, threshold_90_precision], [0.9, 0.9], \"r:\")                                # Not shown\n",
        "plt.plot([-50000, threshold_90_precision], [recall_90_precision, recall_90_precision], \"r:\")# Not shown\n",
        "plt.plot([threshold_90_precision], [0.9], \"ro\")                                             # Not shown\n",
        "plt.plot([threshold_90_precision], [recall_90_precision], \"ro\")                             # Not shown\n",
        "save_fig(\"precision_recall_vs_threshold_plot\")                                              # Not shown\n",
        "plt.show()"
      ]
    },
    {
      "cell_type": "code",
      "execution_count": 52,
      "metadata": {
        "execution": {
          "iopub.execute_input": "2021-11-03T03:35:02.153593Z",
          "iopub.status.busy": "2021-11-03T03:35:02.152952Z",
          "iopub.status.idle": "2021-11-03T03:35:02.159777Z",
          "shell.execute_reply": "2021-11-03T03:35:02.159271Z"
        },
        "id": "VMt9xdXMDqmR",
        "outputId": "966f1b67-3f65-4fec-c09d-29b18c1c55bd",
        "colab": {
          "base_uri": "https://localhost:8080/"
        }
      },
      "outputs": [
        {
          "output_type": "execute_result",
          "data": {
            "text/plain": [
              "True"
            ]
          },
          "metadata": {},
          "execution_count": 52
        }
      ],
      "source": [
        "(y_train_pred == (y_scores > 0)).all()"
      ]
    },
    {
      "cell_type": "code",
      "execution_count": 59,
      "metadata": {
        "execution": {
          "iopub.execute_input": "2021-11-03T03:35:02.184892Z",
          "iopub.status.busy": "2021-11-03T03:35:02.182922Z",
          "iopub.status.idle": "2021-11-03T03:35:02.688438Z",
          "shell.execute_reply": "2021-11-03T03:35:02.688876Z"
        },
        "id": "_97Zz3GaDqmR",
        "outputId": "1b8ca411-c2c5-4e1d-b19b-d6cc86f95e7c",
        "colab": {
          "base_uri": "https://localhost:8080/",
          "height": 642
        }
      },
      "outputs": [
        {
          "output_type": "stream",
          "name": "stdout",
          "text": [
            "그림 저장: precision_vs_recall_plot\n"
          ]
        },
        {
          "output_type": "display_data",
          "data": {
            "text/plain": [
              "<Figure size 800x600 with 1 Axes>"
            ],
            "image/png": "[encoded data removed]"
          },
          "metadata": {}
        },
        {
          "output_type": "execute_result",
          "data": {
            "text/plain": [
              "0.8100417627526462"
            ]
          },
          "metadata": {},
          "execution_count": 59
        }
      ],
      "source": [
        "def plot_precision_vs_recall(precisions, recalls):\n",
        "    plt.plot(recalls, precisions, \"b-\", linewidth=2)\n",
        "    plt.xlabel(\"Recall\", fontsize=16)\n",
        "    plt.ylabel(\"Precision\", fontsize=16)\n",
        "    plt.axis([0, 1, 0, 1])\n",
        "    plt.grid(True)\n",
        "\n",
        "plt.figure(figsize=(8, 6))\n",
        "plot_precision_vs_recall(precisions, recalls)\n",
        "plt.plot([recall_90_precision, recall_90_precision], [0., 0.9], \"r:\")\n",
        "plt.plot([0.0, recall_90_precision], [0.9, 0.9], \"r:\")\n",
        "plt.plot([recall_90_precision], [0.9], \"ro\")\n",
        "save_fig(\"precision_vs_recall_plot\")\n",
        "plt.show()\n",
        "\n",
        "# 곡선의 아래 면적이 클수록 좋은 모델\n",
        "from sklearn.metrics import average_precision_score\n",
        "average_precision_score(y_train_5, y_scores)"
      ]
    },
    {
      "cell_type": "code",
      "execution_count": 54,
      "metadata": {
        "execution": {
          "iopub.execute_input": "2021-11-03T03:35:02.694835Z",
          "iopub.status.busy": "2021-11-03T03:35:02.693149Z",
          "iopub.status.idle": "2021-11-03T03:35:02.695495Z",
          "shell.execute_reply": "2021-11-03T03:35:02.695918Z"
        },
        "id": "KzPsfemyDqmR"
      },
      "outputs": [],
      "source": [
        "threshold_90_precision = thresholds[np.argmax(precisions >= 0.90)]"
      ]
    },
    {
      "cell_type": "code",
      "execution_count": 55,
      "metadata": {
        "execution": {
          "iopub.execute_input": "2021-11-03T03:35:02.701582Z",
          "iopub.status.busy": "2021-11-03T03:35:02.700353Z",
          "iopub.status.idle": "2021-11-03T03:35:02.704264Z",
          "shell.execute_reply": "2021-11-03T03:35:02.703757Z"
        },
        "id": "oTN0m8fmDqmR",
        "outputId": "c6fa46d3-4c9a-4e5c-f926-a5057385caad",
        "colab": {
          "base_uri": "https://localhost:8080/"
        }
      },
      "outputs": [
        {
          "output_type": "execute_result",
          "data": {
            "text/plain": [
              "3370.0194991439557"
            ]
          },
          "metadata": {},
          "execution_count": 55
        }
      ],
      "source": [
        "threshold_90_precision"
      ]
    },
    {
      "cell_type": "code",
      "execution_count": 56,
      "metadata": {
        "execution": {
          "iopub.execute_input": "2021-11-03T03:35:02.707909Z",
          "iopub.status.busy": "2021-11-03T03:35:02.707317Z",
          "iopub.status.idle": "2021-11-03T03:35:02.709809Z",
          "shell.execute_reply": "2021-11-03T03:35:02.709303Z"
        },
        "id": "amwgEKFqDqmS"
      },
      "outputs": [],
      "source": [
        "y_train_pred_90 = (y_scores >= threshold_90_precision)"
      ]
    },
    {
      "cell_type": "code",
      "execution_count": 57,
      "metadata": {
        "execution": {
          "iopub.execute_input": "2021-11-03T03:35:02.713320Z",
          "iopub.status.busy": "2021-11-03T03:35:02.712733Z",
          "iopub.status.idle": "2021-11-03T03:35:02.735590Z",
          "shell.execute_reply": "2021-11-03T03:35:02.735992Z"
        },
        "id": "aUsGqeOgDqmS",
        "outputId": "dfe84753-2dbb-4091-8959-65dcfc8524f7",
        "colab": {
          "base_uri": "https://localhost:8080/"
        }
      },
      "outputs": [
        {
          "output_type": "execute_result",
          "data": {
            "text/plain": [
              "0.9000345901072293"
            ]
          },
          "metadata": {},
          "execution_count": 57
        }
      ],
      "source": [
        "precision_score(y_train_5, y_train_pred_90)"
      ]
    },
    {
      "cell_type": "code",
      "execution_count": 58,
      "metadata": {
        "execution": {
          "iopub.execute_input": "2021-11-03T03:35:02.740153Z",
          "iopub.status.busy": "2021-11-03T03:35:02.739317Z",
          "iopub.status.idle": "2021-11-03T03:35:02.763607Z",
          "shell.execute_reply": "2021-11-03T03:35:02.763075Z"
        },
        "id": "8nhj0Gu3DqmS",
        "outputId": "d09c591b-0993-47bd-959e-115b34dc8a72",
        "colab": {
          "base_uri": "https://localhost:8080/"
        }
      },
      "outputs": [
        {
          "output_type": "execute_result",
          "data": {
            "text/plain": [
              "0.4799852425751706"
            ]
          },
          "metadata": {},
          "execution_count": 58
        }
      ],
      "source": [
        "recall_score(y_train_5, y_train_pred_90)"
      ]
    },
    {
      "cell_type": "markdown",
      "metadata": {
        "id": "Bq86nXLfDqmS"
      },
      "source": [
        "## ROC 곡선"
      ]
    },
    {
      "cell_type": "code",
      "execution_count": 61,
      "metadata": {
        "execution": {
          "iopub.execute_input": "2021-11-03T03:35:02.768368Z",
          "iopub.status.busy": "2021-11-03T03:35:02.767461Z",
          "iopub.status.idle": "2021-11-03T03:35:02.781793Z",
          "shell.execute_reply": "2021-11-03T03:35:02.781171Z"
        },
        "id": "be4-ri7aDqmS"
      },
      "outputs": [],
      "source": [
        "from sklearn.metrics import roc_curve\n",
        "\n",
        "fpr, tpr, thresholds = roc_curve(y_train_5, y_scores)"
      ]
    },
    {
      "cell_type": "code",
      "execution_count": 62,
      "metadata": {
        "execution": {
          "iopub.execute_input": "2021-11-03T03:35:02.821717Z",
          "iopub.status.busy": "2021-11-03T03:35:02.820582Z",
          "iopub.status.idle": "2021-11-03T03:35:03.298014Z",
          "shell.execute_reply": "2021-11-03T03:35:03.298458Z"
        },
        "id": "IRkC-5O7DqmS",
        "outputId": "6e1ef7e1-d922-4588-e561-c0857d39c0db",
        "colab": {
          "base_uri": "https://localhost:8080/",
          "height": 624
        }
      },
      "outputs": [
        {
          "output_type": "stream",
          "name": "stdout",
          "text": [
            "그림 저장: roc_curve_plot\n"
          ]
        },
        {
          "output_type": "display_data",
          "data": {
            "text/plain": [
              "<Figure size 800x600 with 1 Axes>"
            ],
            "image/png": "[encoded data removed]"
          },
          "metadata": {}
        }
      ],
      "source": [
        "def plot_roc_curve(fpr, tpr, label=None):\n",
        "    plt.plot(fpr, tpr, linewidth=2, label=label)\n",
        "    plt.plot([0, 1], [0, 1], 'k--') # 대각 점선\n",
        "    plt.axis([0, 1, 0, 1])                                    # Not shown in the book\n",
        "    plt.xlabel('False Positive Rate (Fall-Out)', fontsize=16) # Not shown\n",
        "    plt.ylabel('True Positive Rate (Recall)', fontsize=16)    # Not shown\n",
        "    plt.grid(True)                                            # Not shown\n",
        "\n",
        "plt.figure(figsize=(8, 6))                                    # Not shown\n",
        "plot_roc_curve(fpr, tpr)\n",
        "fpr_90 = fpr[np.argmax(tpr >= recall_90_precision)]           # Not shown\n",
        "plt.plot([fpr_90, fpr_90], [0., recall_90_precision], \"r:\")   # Not shown\n",
        "plt.plot([0.0, fpr_90], [recall_90_precision, recall_90_precision], \"r:\")  # Not shown\n",
        "plt.plot([fpr_90], [recall_90_precision], \"ro\")               # Not shown\n",
        "save_fig(\"roc_curve_plot\")                                    # Not shown\n",
        "plt.show()"
      ]
    },
    {
      "cell_type": "code",
      "execution_count": 63,
      "metadata": {
        "execution": {
          "iopub.execute_input": "2021-11-03T03:35:03.303630Z",
          "iopub.status.busy": "2021-11-03T03:35:03.302717Z",
          "iopub.status.idle": "2021-11-03T03:35:03.325509Z",
          "shell.execute_reply": "2021-11-03T03:35:03.325942Z"
        },
        "id": "FJ55fgMjDqmT",
        "outputId": "b78d42ec-6fa2-416a-aa47-b482fa2b5fb7",
        "colab": {
          "base_uri": "https://localhost:8080/"
        }
      },
      "outputs": [
        {
          "output_type": "execute_result",
          "data": {
            "text/plain": [
              "0.9604938554008616"
            ]
          },
          "metadata": {},
          "execution_count": 63
        }
      ],
      "source": [
        "from sklearn.metrics import roc_auc_score\n",
        "\n",
        "# ROC 곡선 아래 면적 계산\n",
        "roc_auc_score(y_train_5, y_scores)"
      ]
    },
    {
      "cell_type": "markdown",
      "metadata": {
        "id": "Oji1tDc3DqmT"
      },
      "source": [
        "**노트**: 사이킷런 0.22 버전에서 바뀔 기본 값을 사용해 `n_estimators=100`로 지정합니다."
      ]
    },
    {
      "cell_type": "code",
      "execution_count": 67,
      "metadata": {
        "execution": {
          "iopub.execute_input": "2021-11-03T03:35:03.331569Z",
          "iopub.status.busy": "2021-11-03T03:35:03.330673Z",
          "iopub.status.idle": "2021-11-03T03:36:05.296924Z",
          "shell.execute_reply": "2021-11-03T03:36:05.297491Z"
        },
        "id": "FAZTdKXVDqmT",
        "outputId": "a40148f8-44b3-4c15-d10a-c390a6352938",
        "colab": {
          "base_uri": "https://localhost:8080/"
        }
      },
      "outputs": [
        {
          "output_type": "execute_result",
          "data": {
            "text/plain": [
              "array([[0.11, 0.89],\n",
              "       [0.99, 0.01],\n",
              "       [0.96, 0.04],\n",
              "       ...,\n",
              "       [0.02, 0.98],\n",
              "       [0.92, 0.08],\n",
              "       [0.94, 0.06]])"
            ]
          },
          "metadata": {},
          "execution_count": 67
        }
      ],
      "source": [
        "from sklearn.ensemble import RandomForestClassifier\n",
        "forest_clf = RandomForestClassifier(n_estimators=100, random_state=42)\n",
        "y_probas_forest = cross_val_predict(forest_clf, X_train, y_train_5, cv=3,\n",
        "                                    method=\"predict_proba\")\n",
        "y_probas_forest"
      ]
    },
    {
      "cell_type": "code",
      "execution_count": 65,
      "metadata": {
        "execution": {
          "iopub.execute_input": "2021-11-03T03:36:05.301420Z",
          "iopub.status.busy": "2021-11-03T03:36:05.300274Z",
          "iopub.status.idle": "2021-11-03T03:36:05.310105Z",
          "shell.execute_reply": "2021-11-03T03:36:05.310512Z"
        },
        "id": "NuItgH-gDqmT"
      },
      "outputs": [],
      "source": [
        "y_scores_forest = y_probas_forest[:, 1] # 점수 = 양성 클래스의 확률\n",
        "fpr_forest, tpr_forest, thresholds_forest = roc_curve(y_train_5,y_scores_forest)"
      ]
    },
    {
      "cell_type": "code",
      "execution_count": 66,
      "metadata": {
        "execution": {
          "iopub.execute_input": "2021-11-03T03:36:05.314016Z",
          "iopub.status.busy": "2021-11-03T03:36:05.312811Z",
          "iopub.status.idle": "2021-11-03T03:36:05.870569Z",
          "shell.execute_reply": "2021-11-03T03:36:05.870044Z"
        },
        "id": "1dXORM4YDqmT",
        "outputId": "9e168f5f-23b6-4bd4-ef47-76089b8855ff",
        "colab": {
          "base_uri": "https://localhost:8080/",
          "height": 624
        }
      },
      "outputs": [
        {
          "output_type": "stream",
          "name": "stdout",
          "text": [
            "그림 저장: roc_curve_comparison_plot\n"
          ]
        },
        {
          "output_type": "display_data",
          "data": {
            "text/plain": [
              "<Figure size 800x600 with 1 Axes>"
            ],
            "image/png": "[encoded data removed]"
          },
          "metadata": {}
        }
      ],
      "source": [
        "recall_for_forest = tpr_forest[np.argmax(fpr_forest >= fpr_90)]\n",
        "\n",
        "plt.figure(figsize=(8, 6))\n",
        "plt.plot(fpr, tpr, \"b:\", linewidth=2, label=\"SGD\") # 얘는 sgd로 찍어보고\n",
        "plot_roc_curve(fpr_forest, tpr_forest, \"Random Forest\") # 얘는 랜덤 포레스트로\n",
        "plt.plot([fpr_90, fpr_90], [0., recall_90_precision], \"r:\")\n",
        "plt.plot([0.0, fpr_90], [recall_90_precision, recall_90_precision], \"r:\")\n",
        "plt.plot([fpr_90], [recall_90_precision], \"ro\")\n",
        "plt.plot([fpr_90, fpr_90], [0., recall_for_forest], \"r:\")\n",
        "plt.plot([fpr_90], [recall_for_forest], \"ro\")\n",
        "plt.grid(True)\n",
        "plt.legend(loc=\"lower right\", fontsize=16)\n",
        "save_fig(\"roc_curve_comparison_plot\")\n",
        "plt.show()"
      ]
    },
    {
      "cell_type": "code",
      "execution_count": 74,
      "metadata": {
        "execution": {
          "iopub.execute_input": "2021-11-03T03:36:05.874878Z",
          "iopub.status.busy": "2021-11-03T03:36:05.874285Z",
          "iopub.status.idle": "2021-11-03T03:36:05.891082Z",
          "shell.execute_reply": "2021-11-03T03:36:05.890593Z"
        },
        "id": "zPELW65uDqmT",
        "outputId": "046cce31-02d2-42aa-f95b-c8e1cb7ffde6",
        "colab": {
          "base_uri": "https://localhost:8080/"
        }
      },
      "outputs": [
        {
          "output_type": "stream",
          "name": "stdout",
          "text": [
            "0.9983436731328145\n",
            "0.9604938554008616\n"
          ]
        }
      ],
      "source": [
        "print(roc_auc_score(y_train_5, y_scores_forest))\n",
        "print(roc_auc_score(y_train_5, y_scores))"
      ]
    },
    {
      "cell_type": "code",
      "source": [
        "y_train_pred_forest = cross_val_predict(forest_clf, X_train, y_train_5, cv=3)\n",
        "precision_score(y_train_5, y_train_pred_forest)"
      ],
      "metadata": {
        "id": "yJGWJ8FQorAQ",
        "outputId": "b8c03f68-8b1e-44ca-cb57-feee7ebe7645",
        "colab": {
          "base_uri": "https://localhost:8080/"
        }
      },
      "execution_count": 77,
      "outputs": [
        {
          "output_type": "execute_result",
          "data": {
            "text/plain": [
              "0.9905083315756169"
            ]
          },
          "metadata": {},
          "execution_count": 77
        }
      ]
    },
    {
      "cell_type": "code",
      "execution_count": 78,
      "metadata": {
        "execution": {
          "iopub.execute_input": "2021-11-03T03:37:08.387892Z",
          "iopub.status.busy": "2021-11-03T03:37:08.387312Z",
          "iopub.status.idle": "2021-11-03T03:37:08.409205Z",
          "shell.execute_reply": "2021-11-03T03:37:08.408673Z"
        },
        "id": "w8mK_X6wDqmU",
        "outputId": "28aed2a9-5a84-40b1-c6dc-b4577aafd2a6",
        "colab": {
          "base_uri": "https://localhost:8080/"
        }
      },
      "outputs": [
        {
          "output_type": "execute_result",
          "data": {
            "text/plain": [
              "0.8662608374838591"
            ]
          },
          "metadata": {},
          "execution_count": 78
        }
      ],
      "source": [
        "recall_score(y_train_5, y_train_pred_forest)"
      ]
    },
    {
      "cell_type": "markdown",
      "metadata": {
        "id": "rSbHqiFvDqmU"
      },
      "source": [
        "# 다중 분류"
      ]
    },
    {
      "cell_type": "code",
      "execution_count": null,
      "metadata": {
        "execution": {
          "iopub.execute_input": "2021-11-03T03:37:08.414358Z",
          "iopub.status.busy": "2021-11-03T03:37:08.413731Z",
          "iopub.status.idle": "2021-11-03T03:37:08.899441Z",
          "shell.execute_reply": "2021-11-03T03:37:08.899879Z"
        },
        "id": "4-lPVJM0DqmU"
      },
      "outputs": [],
      "source": [
        "from sklearn.svm import SVC\n",
        "\n",
        "svm_clf = SVC(gamma=\"auto\", random_state=42)\n",
        "svm_clf.fit(X_train[:1000], y_train[:1000]) # y_train_5이 아니라 y_train입니다\n",
        "svm_clf.predict([some_digit])"
      ]
    },
    {
      "cell_type": "code",
      "execution_count": null,
      "metadata": {
        "execution": {
          "iopub.execute_input": "2021-11-03T03:37:08.904203Z",
          "iopub.status.busy": "2021-11-03T03:37:08.903599Z",
          "iopub.status.idle": "2021-11-03T03:37:08.909561Z",
          "shell.execute_reply": "2021-11-03T03:37:08.909003Z"
        },
        "id": "pNXZbg7wDqmU"
      },
      "outputs": [],
      "source": [
        "some_digit_scores = svm_clf.decision_function([some_digit])\n",
        "some_digit_scores"
      ]
    },
    {
      "cell_type": "code",
      "execution_count": null,
      "metadata": {
        "execution": {
          "iopub.execute_input": "2021-11-03T03:37:08.914203Z",
          "iopub.status.busy": "2021-11-03T03:37:08.913375Z",
          "iopub.status.idle": "2021-11-03T03:37:08.916442Z",
          "shell.execute_reply": "2021-11-03T03:37:08.916868Z"
        },
        "id": "0tx7gdVLDqmU"
      },
      "outputs": [],
      "source": [
        "np.argmax(some_digit_scores)"
      ]
    },
    {
      "cell_type": "code",
      "execution_count": null,
      "metadata": {
        "execution": {
          "iopub.execute_input": "2021-11-03T03:37:08.920927Z",
          "iopub.status.busy": "2021-11-03T03:37:08.920302Z",
          "iopub.status.idle": "2021-11-03T03:37:08.922786Z",
          "shell.execute_reply": "2021-11-03T03:37:08.923203Z"
        },
        "id": "7ezLO15RDqmU"
      },
      "outputs": [],
      "source": [
        "svm_clf.classes_"
      ]
    },
    {
      "cell_type": "code",
      "execution_count": null,
      "metadata": {
        "execution": {
          "iopub.execute_input": "2021-11-03T03:37:08.927483Z",
          "iopub.status.busy": "2021-11-03T03:37:08.926904Z",
          "iopub.status.idle": "2021-11-03T03:37:08.929585Z",
          "shell.execute_reply": "2021-11-03T03:37:08.930003Z"
        },
        "id": "VAMds_c9DqmU"
      },
      "outputs": [],
      "source": [
        "svm_clf.classes_[5]"
      ]
    },
    {
      "cell_type": "code",
      "execution_count": null,
      "metadata": {
        "execution": {
          "iopub.execute_input": "2021-11-03T03:37:08.934387Z",
          "iopub.status.busy": "2021-11-03T03:37:08.933805Z",
          "iopub.status.idle": "2021-11-03T03:37:11.880713Z",
          "shell.execute_reply": "2021-11-03T03:37:11.881113Z"
        },
        "id": "3BcFSBAlDqmV"
      },
      "outputs": [],
      "source": [
        "from sklearn.multiclass import OneVsRestClassifier\n",
        "ovr_clf = OneVsRestClassifier(SVC(gamma=\"auto\", random_state=42))\n",
        "ovr_clf.fit(X_train[:1000], y_train[:1000])\n",
        "ovr_clf.predict([some_digit])"
      ]
    },
    {
      "cell_type": "code",
      "execution_count": null,
      "metadata": {
        "execution": {
          "iopub.execute_input": "2021-11-03T03:37:11.886033Z",
          "iopub.status.busy": "2021-11-03T03:37:11.885437Z",
          "iopub.status.idle": "2021-11-03T03:37:11.887975Z",
          "shell.execute_reply": "2021-11-03T03:37:11.888410Z"
        },
        "id": "zVe-PFpLDqmV"
      },
      "outputs": [],
      "source": [
        "len(ovr_clf.estimators_)"
      ]
    },
    {
      "cell_type": "code",
      "execution_count": null,
      "metadata": {
        "execution": {
          "iopub.execute_input": "2021-11-03T03:37:11.892347Z",
          "iopub.status.busy": "2021-11-03T03:37:11.891740Z",
          "iopub.status.idle": "2021-11-03T03:40:10.143544Z",
          "shell.execute_reply": "2021-11-03T03:40:10.143975Z"
        },
        "id": "ibWhVUmcDqmV"
      },
      "outputs": [],
      "source": [
        "sgd_clf.fit(X_train, y_train)\n",
        "sgd_clf.predict([some_digit])"
      ]
    },
    {
      "cell_type": "code",
      "execution_count": null,
      "metadata": {
        "execution": {
          "iopub.execute_input": "2021-11-03T03:40:10.146772Z",
          "iopub.status.busy": "2021-11-03T03:40:10.146199Z",
          "iopub.status.idle": "2021-11-03T03:40:10.150261Z",
          "shell.execute_reply": "2021-11-03T03:40:10.150672Z"
        },
        "id": "d8VA74uTDqmV"
      },
      "outputs": [],
      "source": [
        "sgd_clf.decision_function([some_digit])"
      ]
    },
    {
      "cell_type": "markdown",
      "metadata": {
        "id": "N1Ew6mRrDqmV"
      },
      "source": [
        "**경고**: 사용하는 하드웨어에 따라 다음 두 셀을 실행하는데 30분 또는 그 이상 걸릴 수 있습니다."
      ]
    },
    {
      "cell_type": "code",
      "execution_count": null,
      "metadata": {
        "execution": {
          "iopub.execute_input": "2021-11-03T03:40:10.153393Z",
          "iopub.status.busy": "2021-11-03T03:40:10.152736Z",
          "iopub.status.idle": "2021-11-03T03:45:02.837036Z",
          "shell.execute_reply": "2021-11-03T03:45:02.837827Z"
        },
        "id": "T5Dj8u0_DqmV"
      },
      "outputs": [],
      "source": [
        "cross_val_score(sgd_clf, X_train, y_train, cv=3, scoring=\"accuracy\")"
      ]
    },
    {
      "cell_type": "code",
      "execution_count": null,
      "metadata": {
        "execution": {
          "iopub.execute_input": "2021-11-03T03:45:02.841954Z",
          "iopub.status.busy": "2021-11-03T03:45:02.841060Z",
          "iopub.status.idle": "2021-11-03T03:57:59.266880Z",
          "shell.execute_reply": "2021-11-03T03:57:59.267546Z"
        },
        "id": "fcAXAfEaDqmV"
      },
      "outputs": [],
      "source": [
        "from sklearn.preprocessing import StandardScaler\n",
        "scaler = StandardScaler()\n",
        "X_train_scaled = scaler.fit_transform(X_train.astype(np.float64))\n",
        "cross_val_score(sgd_clf, X_train_scaled, y_train, cv=3, scoring=\"accuracy\")"
      ]
    },
    {
      "cell_type": "markdown",
      "metadata": {
        "id": "kSLcUGm-DqmW"
      },
      "source": [
        "# 에러 분석"
      ]
    },
    {
      "cell_type": "code",
      "execution_count": null,
      "metadata": {
        "execution": {
          "iopub.execute_input": "2021-11-03T03:57:59.271662Z",
          "iopub.status.busy": "2021-11-03T03:57:59.270835Z",
          "iopub.status.idle": "2021-11-03T04:10:54.132632Z",
          "shell.execute_reply": "2021-11-03T04:10:54.133405Z"
        },
        "id": "T0vQWiOIDqmW"
      },
      "outputs": [],
      "source": [
        "y_train_pred = cross_val_predict(sgd_clf, X_train_scaled, y_train, cv=3)\n",
        "conf_mx = confusion_matrix(y_train, y_train_pred)\n",
        "conf_mx"
      ]
    },
    {
      "cell_type": "markdown",
      "metadata": {
        "id": "brx-HrTsDqmW"
      },
      "source": [
        "사이킷런 0.22 버전부터는 `sklearn.metrics.plot_confusion_matrix()` 함수를 사용할 수 있습니다."
      ]
    },
    {
      "cell_type": "code",
      "execution_count": null,
      "metadata": {
        "execution": {
          "iopub.execute_input": "2021-11-03T04:10:54.137694Z",
          "iopub.status.busy": "2021-11-03T04:10:54.136836Z",
          "iopub.status.idle": "2021-11-03T04:10:54.142606Z",
          "shell.execute_reply": "2021-11-03T04:10:54.143334Z"
        },
        "id": "7S30eiSHDqmW"
      },
      "outputs": [],
      "source": [
        "def plot_confusion_matrix(matrix):\n",
        "    \"\"\"If you prefer color and a colorbar\"\"\"\n",
        "    fig = plt.figure(figsize=(8,8))\n",
        "    ax = fig.add_subplot(111)\n",
        "    cax = ax.matshow(matrix)\n",
        "    fig.colorbar(cax)"
      ]
    },
    {
      "cell_type": "code",
      "execution_count": null,
      "metadata": {
        "execution": {
          "iopub.execute_input": "2021-11-03T04:10:54.147196Z",
          "iopub.status.busy": "2021-11-03T04:10:54.146359Z",
          "iopub.status.idle": "2021-11-03T04:10:54.459737Z",
          "shell.execute_reply": "2021-11-03T04:10:54.460355Z"
        },
        "id": "gVdukHUHDqmW"
      },
      "outputs": [],
      "source": [
        "plt.matshow(conf_mx, cmap=plt.cm.gray)\n",
        "save_fig(\"confusion_matrix_plot\", tight_layout=False)\n",
        "plt.show()"
      ]
    },
    {
      "cell_type": "code",
      "execution_count": null,
      "metadata": {
        "execution": {
          "iopub.execute_input": "2021-11-03T04:10:54.463645Z",
          "iopub.status.busy": "2021-11-03T04:10:54.462827Z",
          "iopub.status.idle": "2021-11-03T04:10:54.465648Z",
          "shell.execute_reply": "2021-11-03T04:10:54.466297Z"
        },
        "id": "CR1IMK3FDqmW"
      },
      "outputs": [],
      "source": [
        "row_sums = conf_mx.sum(axis=1, keepdims=True)\n",
        "norm_conf_mx = conf_mx / row_sums"
      ]
    },
    {
      "cell_type": "code",
      "execution_count": null,
      "metadata": {
        "execution": {
          "iopub.execute_input": "2021-11-03T04:10:54.469426Z",
          "iopub.status.busy": "2021-11-03T04:10:54.468564Z",
          "iopub.status.idle": "2021-11-03T04:10:54.733288Z",
          "shell.execute_reply": "2021-11-03T04:10:54.733921Z"
        },
        "id": "yFga7hWVDqmX"
      },
      "outputs": [],
      "source": [
        "np.fill_diagonal(norm_conf_mx, 0)\n",
        "plt.matshow(norm_conf_mx, cmap=plt.cm.gray)\n",
        "save_fig(\"confusion_matrix_errors_plot\", tight_layout=False)\n",
        "plt.show()"
      ]
    },
    {
      "cell_type": "code",
      "execution_count": null,
      "metadata": {
        "execution": {
          "iopub.execute_input": "2021-11-03T04:10:54.737225Z",
          "iopub.status.busy": "2021-11-03T04:10:54.736371Z",
          "iopub.status.idle": "2021-11-03T04:10:55.613074Z",
          "shell.execute_reply": "2021-11-03T04:10:55.613759Z"
        },
        "id": "6Z_vNBwwDqmX"
      },
      "outputs": [],
      "source": [
        "cl_a, cl_b = 3, 5\n",
        "X_aa = X_train[(y_train == cl_a) & (y_train_pred == cl_a)]\n",
        "X_ab = X_train[(y_train == cl_a) & (y_train_pred == cl_b)]\n",
        "X_ba = X_train[(y_train == cl_b) & (y_train_pred == cl_a)]\n",
        "X_bb = X_train[(y_train == cl_b) & (y_train_pred == cl_b)]\n",
        "\n",
        "plt.figure(figsize=(8,8))\n",
        "plt.subplot(221); plot_digits(X_aa[:25], images_per_row=5)\n",
        "plt.subplot(222); plot_digits(X_ab[:25], images_per_row=5)\n",
        "plt.subplot(223); plot_digits(X_ba[:25], images_per_row=5)\n",
        "plt.subplot(224); plot_digits(X_bb[:25], images_per_row=5)\n",
        "save_fig(\"error_analysis_digits_plot\")\n",
        "plt.show()"
      ]
    },
    {
      "cell_type": "markdown",
      "metadata": {
        "id": "p4H3I3xEDqmX"
      },
      "source": [
        "# 다중 레이블 분류"
      ]
    },
    {
      "cell_type": "code",
      "execution_count": null,
      "metadata": {
        "execution": {
          "iopub.execute_input": "2021-11-03T04:10:55.617350Z",
          "iopub.status.busy": "2021-11-03T04:10:55.616472Z",
          "iopub.status.idle": "2021-11-03T04:10:55.664866Z",
          "shell.execute_reply": "2021-11-03T04:10:55.665559Z"
        },
        "id": "vU9TQHX9DqmX"
      },
      "outputs": [],
      "source": [
        "from sklearn.neighbors import KNeighborsClassifier\n",
        "\n",
        "y_train_large = (y_train >= 7)\n",
        "y_train_odd = (y_train % 2 == 1)\n",
        "y_multilabel = np.c_[y_train_large, y_train_odd]\n",
        "\n",
        "knn_clf = KNeighborsClassifier()\n",
        "knn_clf.fit(X_train, y_multilabel)"
      ]
    },
    {
      "cell_type": "code",
      "execution_count": null,
      "metadata": {
        "execution": {
          "iopub.execute_input": "2021-11-03T04:10:55.668840Z",
          "iopub.status.busy": "2021-11-03T04:10:55.667997Z",
          "iopub.status.idle": "2021-11-03T04:10:55.766572Z",
          "shell.execute_reply": "2021-11-03T04:10:55.767213Z"
        },
        "id": "gPFAASQMDqmX"
      },
      "outputs": [],
      "source": [
        "knn_clf.predict([some_digit])"
      ]
    },
    {
      "cell_type": "markdown",
      "metadata": {
        "id": "CDIEMThbDqmX"
      },
      "source": [
        "**경고**: 다음 셀은 실행하는데 매우 오래 걸립니다(하드웨어에 따라 몇 시간이 걸릴 수 있습니다)."
      ]
    },
    {
      "cell_type": "code",
      "execution_count": null,
      "metadata": {
        "execution": {
          "iopub.execute_input": "2021-11-03T04:10:55.770744Z",
          "iopub.status.busy": "2021-11-03T04:10:55.769903Z",
          "iopub.status.idle": "2021-11-03T04:12:23.950858Z",
          "shell.execute_reply": "2021-11-03T04:12:23.950197Z"
        },
        "id": "JJ4-RaEsDqmX"
      },
      "outputs": [],
      "source": [
        "y_train_knn_pred = cross_val_predict(knn_clf, X_train, y_multilabel, cv=3)\n",
        "f1_score(y_multilabel, y_train_knn_pred, average=\"macro\")"
      ]
    },
    {
      "cell_type": "markdown",
      "metadata": {
        "id": "O32cKtGyDqmY"
      },
      "source": [
        "# 다중 출력 분류"
      ]
    },
    {
      "cell_type": "code",
      "execution_count": null,
      "metadata": {
        "execution": {
          "iopub.execute_input": "2021-11-03T04:12:23.955385Z",
          "iopub.status.busy": "2021-11-03T04:12:23.954811Z",
          "iopub.status.idle": "2021-11-03T04:12:24.851268Z",
          "shell.execute_reply": "2021-11-03T04:12:24.851726Z"
        },
        "id": "kLcJr_OsDqmY"
      },
      "outputs": [],
      "source": [
        "noise = np.random.randint(0, 100, (len(X_train), 784))\n",
        "X_train_mod = X_train + noise\n",
        "noise = np.random.randint(0, 100, (len(X_test), 784))\n",
        "X_test_mod = X_test + noise\n",
        "y_train_mod = X_train\n",
        "y_test_mod = X_test"
      ]
    },
    {
      "cell_type": "code",
      "execution_count": null,
      "metadata": {
        "execution": {
          "iopub.execute_input": "2021-11-03T04:12:24.888437Z",
          "iopub.status.busy": "2021-11-03T04:12:24.870052Z",
          "iopub.status.idle": "2021-11-03T04:12:25.133803Z",
          "shell.execute_reply": "2021-11-03T04:12:25.134556Z"
        },
        "scrolled": true,
        "id": "EiUqzFfSDqmY"
      },
      "outputs": [],
      "source": [
        "some_index = 0\n",
        "plt.subplot(121); plot_digit(X_test_mod[some_index])\n",
        "plt.subplot(122); plot_digit(y_test_mod[some_index])\n",
        "save_fig(\"noisy_digit_example_plot\")\n",
        "plt.show()"
      ]
    },
    {
      "cell_type": "code",
      "execution_count": null,
      "metadata": {
        "execution": {
          "iopub.execute_input": "2021-11-03T04:12:25.138463Z",
          "iopub.status.busy": "2021-11-03T04:12:25.137454Z",
          "iopub.status.idle": "2021-11-03T04:12:32.512997Z",
          "shell.execute_reply": "2021-11-03T04:12:32.513757Z"
        },
        "id": "NugvsbT3DqmY"
      },
      "outputs": [],
      "source": [
        "knn_clf.fit(X_train_mod, y_train_mod)\n",
        "clean_digit = knn_clf.predict([X_test_mod[some_index]])\n",
        "plot_digit(clean_digit)\n",
        "save_fig(\"cleaned_digit_example_plot\")"
      ]
    },
    {
      "cell_type": "markdown",
      "metadata": {
        "id": "HyeBOeM2DqmY"
      },
      "source": [
        "# 추가 내용"
      ]
    },
    {
      "cell_type": "markdown",
      "metadata": {
        "id": "5liJHXONDqmY"
      },
      "source": [
        "## 더미 (즉 랜덤) 분류기"
      ]
    },
    {
      "cell_type": "code",
      "execution_count": null,
      "metadata": {
        "execution": {
          "iopub.execute_input": "2021-11-03T04:12:32.519912Z",
          "iopub.status.busy": "2021-11-03T04:12:32.518901Z",
          "iopub.status.idle": "2021-11-03T04:12:33.048487Z",
          "shell.execute_reply": "2021-11-03T04:12:33.048911Z"
        },
        "id": "v2Z5aUa7DqmY"
      },
      "outputs": [],
      "source": [
        "from sklearn.dummy import DummyClassifier\n",
        "# 0.24버전부터 strategy의 기본값이 'stratified'에서 'prior'로 바뀌므로 명시적으로 지정합니다.\n",
        "dmy_clf = DummyClassifier(strategy='prior')\n",
        "y_probas_dmy = cross_val_predict(dmy_clf, X_train, y_train_5, cv=3, method=\"predict_proba\")\n",
        "y_scores_dmy = y_probas_dmy[:, 1]"
      ]
    },
    {
      "cell_type": "code",
      "execution_count": null,
      "metadata": {
        "execution": {
          "iopub.execute_input": "2021-11-03T04:12:33.052991Z",
          "iopub.status.busy": "2021-11-03T04:12:33.052404Z",
          "iopub.status.idle": "2021-11-03T04:12:33.182776Z",
          "shell.execute_reply": "2021-11-03T04:12:33.183552Z"
        },
        "scrolled": false,
        "id": "ZdJOezRxDqmY"
      },
      "outputs": [],
      "source": [
        "fprr, tprr, thresholdsr = roc_curve(y_train_5, y_scores_dmy)\n",
        "plot_roc_curve(fprr, tprr)"
      ]
    },
    {
      "cell_type": "markdown",
      "metadata": {
        "id": "9bgxCnYdDqmZ"
      },
      "source": [
        "## KNN 분류기"
      ]
    },
    {
      "cell_type": "code",
      "execution_count": null,
      "metadata": {
        "execution": {
          "iopub.execute_input": "2021-11-03T04:12:33.189375Z",
          "iopub.status.busy": "2021-11-03T04:12:33.188321Z",
          "iopub.status.idle": "2021-11-03T04:12:33.232316Z",
          "shell.execute_reply": "2021-11-03T04:12:33.231796Z"
        },
        "id": "LRQsNyxFDqmZ"
      },
      "outputs": [],
      "source": [
        "from sklearn.neighbors import KNeighborsClassifier\n",
        "knn_clf = KNeighborsClassifier(weights='distance', n_neighbors=4)\n",
        "knn_clf.fit(X_train, y_train)"
      ]
    },
    {
      "cell_type": "code",
      "execution_count": null,
      "metadata": {
        "execution": {
          "iopub.execute_input": "2021-11-03T04:12:33.236117Z",
          "iopub.status.busy": "2021-11-03T04:12:33.235556Z",
          "iopub.status.idle": "2021-11-03T04:12:54.148731Z",
          "shell.execute_reply": "2021-11-03T04:12:54.149487Z"
        },
        "id": "z0gkkFxUDqmZ"
      },
      "outputs": [],
      "source": [
        "y_knn_pred = knn_clf.predict(X_test)"
      ]
    },
    {
      "cell_type": "code",
      "execution_count": null,
      "metadata": {
        "execution": {
          "iopub.execute_input": "2021-11-03T04:12:54.153800Z",
          "iopub.status.busy": "2021-11-03T04:12:54.153165Z",
          "iopub.status.idle": "2021-11-03T04:12:54.157655Z",
          "shell.execute_reply": "2021-11-03T04:12:54.158285Z"
        },
        "id": "9GkkRfxwDqmZ"
      },
      "outputs": [],
      "source": [
        "from sklearn.metrics import accuracy_score\n",
        "accuracy_score(y_test, y_knn_pred)"
      ]
    },
    {
      "cell_type": "code",
      "execution_count": null,
      "metadata": {
        "execution": {
          "iopub.execute_input": "2021-11-03T04:12:54.173514Z",
          "iopub.status.busy": "2021-11-03T04:12:54.162590Z",
          "iopub.status.idle": "2021-11-03T04:12:54.216758Z",
          "shell.execute_reply": "2021-11-03T04:12:54.217176Z"
        },
        "id": "6kL9Hax7DqmZ"
      },
      "outputs": [],
      "source": [
        "from scipy.ndimage.interpolation import shift\n",
        "def shift_digit(digit_array, dx, dy, new=0):\n",
        "    return shift(digit_array.reshape(28, 28), [dy, dx], cval=new).reshape(784)\n",
        "\n",
        "plot_digit(shift_digit(some_digit, 5, 1, new=100))"
      ]
    },
    {
      "cell_type": "code",
      "execution_count": null,
      "metadata": {
        "execution": {
          "iopub.execute_input": "2021-11-03T04:12:54.222730Z",
          "iopub.status.busy": "2021-11-03T04:12:54.221971Z",
          "iopub.status.idle": "2021-11-03T04:13:28.787779Z",
          "shell.execute_reply": "2021-11-03T04:13:28.788200Z"
        },
        "id": "ED61zDFRDqmZ"
      },
      "outputs": [],
      "source": [
        "X_train_expanded = [X_train]\n",
        "y_train_expanded = [y_train]\n",
        "for dx, dy in ((1, 0), (-1, 0), (0, 1), (0, -1)):\n",
        "    shifted_images = np.apply_along_axis(shift_digit, axis=1, arr=X_train, dx=dx, dy=dy)\n",
        "    X_train_expanded.append(shifted_images)\n",
        "    y_train_expanded.append(y_train)\n",
        "\n",
        "X_train_expanded = np.concatenate(X_train_expanded)\n",
        "y_train_expanded = np.concatenate(y_train_expanded)\n",
        "X_train_expanded.shape, y_train_expanded.shape"
      ]
    },
    {
      "cell_type": "code",
      "execution_count": null,
      "metadata": {
        "execution": {
          "iopub.execute_input": "2021-11-03T04:13:28.791886Z",
          "iopub.status.busy": "2021-11-03T04:13:28.791310Z",
          "iopub.status.idle": "2021-11-03T04:13:28.976780Z",
          "shell.execute_reply": "2021-11-03T04:13:28.977213Z"
        },
        "id": "YTMW81NMDqmZ"
      },
      "outputs": [],
      "source": [
        "knn_clf.fit(X_train_expanded, y_train_expanded)"
      ]
    },
    {
      "cell_type": "code",
      "execution_count": null,
      "metadata": {
        "execution": {
          "iopub.execute_input": "2021-11-03T04:13:28.980877Z",
          "iopub.status.busy": "2021-11-03T04:13:28.980295Z",
          "iopub.status.idle": "2021-11-03T04:15:23.869603Z",
          "shell.execute_reply": "2021-11-03T04:15:23.868842Z"
        },
        "id": "FyjNMLWmDqmZ"
      },
      "outputs": [],
      "source": [
        "y_knn_expanded_pred = knn_clf.predict(X_test)"
      ]
    },
    {
      "cell_type": "code",
      "execution_count": null,
      "metadata": {
        "execution": {
          "iopub.execute_input": "2021-11-03T04:15:23.872749Z",
          "iopub.status.busy": "2021-11-03T04:15:23.872155Z",
          "iopub.status.idle": "2021-11-03T04:15:23.876618Z",
          "shell.execute_reply": "2021-11-03T04:15:23.877024Z"
        },
        "id": "o4oEJaAEDqma"
      },
      "outputs": [],
      "source": [
        "accuracy_score(y_test, y_knn_expanded_pred)"
      ]
    },
    {
      "cell_type": "code",
      "execution_count": null,
      "metadata": {
        "execution": {
          "iopub.execute_input": "2021-11-03T04:15:23.880558Z",
          "iopub.status.busy": "2021-11-03T04:15:23.879365Z",
          "iopub.status.idle": "2021-11-03T04:15:24.328995Z",
          "shell.execute_reply": "2021-11-03T04:15:24.329792Z"
        },
        "id": "fBlmkBKyDqma"
      },
      "outputs": [],
      "source": [
        "ambiguous_digit = X_test[2589]\n",
        "knn_clf.predict_proba([ambiguous_digit])"
      ]
    },
    {
      "cell_type": "code",
      "execution_count": null,
      "metadata": {
        "execution": {
          "iopub.execute_input": "2021-11-03T04:15:24.346323Z",
          "iopub.status.busy": "2021-11-03T04:15:24.344862Z",
          "iopub.status.idle": "2021-11-03T04:15:24.422148Z",
          "shell.execute_reply": "2021-11-03T04:15:24.422911Z"
        },
        "id": "NV_TMRCoDqma"
      },
      "outputs": [],
      "source": [
        "plot_digit(ambiguous_digit)"
      ]
    },
    {
      "cell_type": "markdown",
      "metadata": {
        "collapsed": true,
        "id": "qLTfwNz6Dqma"
      },
      "source": [
        "# 연습문제 해답"
      ]
    },
    {
      "cell_type": "markdown",
      "metadata": {
        "id": "3urSvwdmDqma"
      },
      "source": [
        "## 1. 97% 정확도의 MNIST 분류기"
      ]
    },
    {
      "cell_type": "markdown",
      "metadata": {
        "id": "JzRz_5BcDqma"
      },
      "source": [
        "**경고**: 사용하는 하드웨어에 따라 다음 셀을 실행하는데 16시간 또는 그 이상 걸릴 수 있습니다."
      ]
    },
    {
      "cell_type": "code",
      "execution_count": null,
      "metadata": {
        "execution": {
          "iopub.execute_input": "2021-11-03T04:15:24.427536Z",
          "iopub.status.busy": "2021-11-03T04:15:24.426520Z",
          "iopub.status.idle": "2021-11-03T04:25:17.993151Z",
          "shell.execute_reply": "2021-11-03T04:25:17.992326Z"
        },
        "id": "_y5Sr4uTDqma"
      },
      "outputs": [],
      "source": [
        "from sklearn.model_selection import GridSearchCV\n",
        "\n",
        "param_grid = [{'weights': [\"uniform\", \"distance\"], 'n_neighbors': [3, 4, 5]}]\n",
        "\n",
        "knn_clf = KNeighborsClassifier()\n",
        "grid_search = GridSearchCV(knn_clf, param_grid, cv=5, verbose=3)\n",
        "grid_search.fit(X_train, y_train)"
      ]
    },
    {
      "cell_type": "code",
      "execution_count": null,
      "metadata": {
        "execution": {
          "iopub.execute_input": "2021-11-03T04:25:17.998494Z",
          "iopub.status.busy": "2021-11-03T04:25:17.995720Z",
          "iopub.status.idle": "2021-11-03T04:25:18.000893Z",
          "shell.execute_reply": "2021-11-03T04:25:18.001330Z"
        },
        "id": "qx4P5b6sDqma"
      },
      "outputs": [],
      "source": [
        "grid_search.best_params_"
      ]
    },
    {
      "cell_type": "code",
      "execution_count": null,
      "metadata": {
        "execution": {
          "iopub.execute_input": "2021-11-03T04:25:18.006017Z",
          "iopub.status.busy": "2021-11-03T04:25:18.005446Z",
          "iopub.status.idle": "2021-11-03T04:25:18.008242Z",
          "shell.execute_reply": "2021-11-03T04:25:18.008634Z"
        },
        "id": "zFGhPGkFDqmb"
      },
      "outputs": [],
      "source": [
        "grid_search.best_score_"
      ]
    },
    {
      "cell_type": "code",
      "execution_count": null,
      "metadata": {
        "execution": {
          "iopub.execute_input": "2021-11-03T04:25:18.012983Z",
          "iopub.status.busy": "2021-11-03T04:25:18.012423Z",
          "iopub.status.idle": "2021-11-03T04:25:39.327867Z",
          "shell.execute_reply": "2021-11-03T04:25:39.328312Z"
        },
        "id": "KrrZCp0RDqmb"
      },
      "outputs": [],
      "source": [
        "from sklearn.metrics import accuracy_score\n",
        "\n",
        "y_pred = grid_search.predict(X_test)\n",
        "accuracy_score(y_test, y_pred)"
      ]
    },
    {
      "cell_type": "markdown",
      "metadata": {
        "id": "DgLI13inDqmb"
      },
      "source": [
        "## 2. 데이터 증식"
      ]
    },
    {
      "cell_type": "code",
      "execution_count": null,
      "metadata": {
        "execution": {
          "iopub.execute_input": "2021-11-03T04:25:39.331021Z",
          "iopub.status.busy": "2021-11-03T04:25:39.330458Z",
          "iopub.status.idle": "2021-11-03T04:25:39.332953Z",
          "shell.execute_reply": "2021-11-03T04:25:39.333410Z"
        },
        "id": "tOXBJmnODqmb"
      },
      "outputs": [],
      "source": [
        "from scipy.ndimage.interpolation import shift"
      ]
    },
    {
      "cell_type": "code",
      "execution_count": null,
      "metadata": {
        "execution": {
          "iopub.execute_input": "2021-11-03T04:25:39.335825Z",
          "iopub.status.busy": "2021-11-03T04:25:39.335240Z",
          "iopub.status.idle": "2021-11-03T04:25:39.338439Z",
          "shell.execute_reply": "2021-11-03T04:25:39.338847Z"
        },
        "id": "LAGMtG1ODqmb"
      },
      "outputs": [],
      "source": [
        "def shift_image(image, dx, dy):\n",
        "    image = image.reshape((28, 28))\n",
        "    shifted_image = shift(image, [dy, dx], cval=0, mode=\"constant\")\n",
        "    return shifted_image.reshape([-1])"
      ]
    },
    {
      "cell_type": "code",
      "execution_count": null,
      "metadata": {
        "execution": {
          "iopub.execute_input": "2021-11-03T04:25:39.341257Z",
          "iopub.status.busy": "2021-11-03T04:25:39.340665Z",
          "iopub.status.idle": "2021-11-03T04:25:39.653482Z",
          "shell.execute_reply": "2021-11-03T04:25:39.653938Z"
        },
        "id": "zcDsg_18Dqmb"
      },
      "outputs": [],
      "source": [
        "image = X_train[1000]\n",
        "shifted_image_down = shift_image(image, 0, 5)\n",
        "shifted_image_left = shift_image(image, -5, 0)\n",
        "\n",
        "plt.figure(figsize=(12,3))\n",
        "plt.subplot(131)\n",
        "plt.title(\"Original\", fontsize=14)\n",
        "plt.imshow(image.reshape(28, 28), interpolation=\"nearest\", cmap=\"Greys\")\n",
        "plt.subplot(132)\n",
        "plt.title(\"Shifted down\", fontsize=14)\n",
        "plt.imshow(shifted_image_down.reshape(28, 28), interpolation=\"nearest\", cmap=\"Greys\")\n",
        "plt.subplot(133)\n",
        "plt.title(\"Shifted left\", fontsize=14)\n",
        "plt.imshow(shifted_image_left.reshape(28, 28), interpolation=\"nearest\", cmap=\"Greys\")\n",
        "plt.show()"
      ]
    },
    {
      "cell_type": "code",
      "execution_count": null,
      "metadata": {
        "execution": {
          "iopub.execute_input": "2021-11-03T04:25:39.656527Z",
          "iopub.status.busy": "2021-11-03T04:25:39.655949Z",
          "iopub.status.idle": "2021-11-03T04:26:14.361859Z",
          "shell.execute_reply": "2021-11-03T04:26:14.362346Z"
        },
        "id": "p4Qlusz6Dqmb"
      },
      "outputs": [],
      "source": [
        "X_train_augmented = [image for image in X_train]\n",
        "y_train_augmented = [label for label in y_train]\n",
        "\n",
        "for dx, dy in ((1, 0), (-1, 0), (0, 1), (0, -1)):\n",
        "    for image, label in zip(X_train, y_train):\n",
        "        X_train_augmented.append(shift_image(image, dx, dy))\n",
        "        y_train_augmented.append(label)\n",
        "\n",
        "X_train_augmented = np.array(X_train_augmented)\n",
        "y_train_augmented = np.array(y_train_augmented)"
      ]
    },
    {
      "cell_type": "code",
      "execution_count": null,
      "metadata": {
        "execution": {
          "iopub.execute_input": "2021-11-03T04:26:14.365077Z",
          "iopub.status.busy": "2021-11-03T04:26:14.364513Z",
          "iopub.status.idle": "2021-11-03T04:26:15.192546Z",
          "shell.execute_reply": "2021-11-03T04:26:15.193011Z"
        },
        "id": "EHAw0dxoDqmb"
      },
      "outputs": [],
      "source": [
        "shuffle_idx = np.random.permutation(len(X_train_augmented))\n",
        "X_train_augmented = X_train_augmented[shuffle_idx]\n",
        "y_train_augmented = y_train_augmented[shuffle_idx]"
      ]
    },
    {
      "cell_type": "code",
      "execution_count": null,
      "metadata": {
        "execution": {
          "iopub.execute_input": "2021-11-03T04:26:15.195923Z",
          "iopub.status.busy": "2021-11-03T04:26:15.195355Z",
          "iopub.status.idle": "2021-11-03T04:26:15.198817Z",
          "shell.execute_reply": "2021-11-03T04:26:15.198293Z"
        },
        "id": "BtC-lLBeDqmc"
      },
      "outputs": [],
      "source": [
        "knn_clf = KNeighborsClassifier(**grid_search.best_params_)"
      ]
    },
    {
      "cell_type": "code",
      "execution_count": null,
      "metadata": {
        "execution": {
          "iopub.execute_input": "2021-11-03T04:26:15.202339Z",
          "iopub.status.busy": "2021-11-03T04:26:15.201771Z",
          "iopub.status.idle": "2021-11-03T04:26:15.385066Z",
          "shell.execute_reply": "2021-11-03T04:26:15.385545Z"
        },
        "id": "IfY2rWaQDqmc"
      },
      "outputs": [],
      "source": [
        "knn_clf.fit(X_train_augmented, y_train_augmented)"
      ]
    },
    {
      "cell_type": "markdown",
      "metadata": {
        "id": "U76r43zUDqmc"
      },
      "source": [
        "**경고**: 사용하는 하드웨어에 따라 다음 셀을 실행하는데 1시간 또는 그 이상 걸릴 수 있습니다."
      ]
    },
    {
      "cell_type": "code",
      "execution_count": null,
      "metadata": {
        "execution": {
          "iopub.execute_input": "2021-11-03T04:26:15.389467Z",
          "iopub.status.busy": "2021-11-03T04:26:15.388876Z",
          "iopub.status.idle": "2021-11-03T04:28:14.264164Z",
          "shell.execute_reply": "2021-11-03T04:28:14.263638Z"
        },
        "id": "cabPaArNDqmc"
      },
      "outputs": [],
      "source": [
        "y_pred = knn_clf.predict(X_test)\n",
        "accuracy_score(y_test, y_pred)"
      ]
    },
    {
      "cell_type": "markdown",
      "metadata": {
        "id": "yR1DKzLwDqmc"
      },
      "source": [
        "간단히 데이터를 증식해서 0.5% 정확도를 높였습니다. :)"
      ]
    },
    {
      "cell_type": "markdown",
      "metadata": {
        "id": "gq0Drc2JDqmc"
      },
      "source": [
        "## 3. 타이타닉 데이터셋 도전"
      ]
    },
    {
      "cell_type": "markdown",
      "metadata": {
        "id": "W1k7QyznDqmd"
      },
      "source": [
        "승객의 나이, 성별, 승객 등급, 승선 위치 같은 속성을 기반으로 하여 승객의 생존 여부를 예측하는 것이 목표입니다."
      ]
    },
    {
      "cell_type": "markdown",
      "metadata": {
        "id": "IzcBCoqCDqmd"
      },
      "source": [
        "먼저 데이터를 로드해 보죠:"
      ]
    },
    {
      "cell_type": "code",
      "execution_count": null,
      "metadata": {
        "execution": {
          "iopub.execute_input": "2021-11-03T04:28:14.270508Z",
          "iopub.status.busy": "2021-11-03T04:28:14.269925Z",
          "iopub.status.idle": "2021-11-03T04:28:14.272805Z",
          "shell.execute_reply": "2021-11-03T04:28:14.272004Z"
        },
        "id": "s6ndX8XRDqmd"
      },
      "outputs": [],
      "source": [
        "import os\n",
        "import urllib.request\n",
        "\n",
        "TITANIC_PATH = os.path.join(\"datasets\", \"titanic\")\n",
        "DOWNLOAD_URL = \"https://raw.githubusercontent.com/rickiepark/handson-ml2/master/datasets/titanic/\"\n",
        "\n",
        "def fetch_titanic_data(url=DOWNLOAD_URL, path=TITANIC_PATH):\n",
        "    if not os.path.isdir(path):\n",
        "        os.makedirs(path)\n",
        "    for filename in (\"train.csv\", \"test.csv\"):\n",
        "        filepath = os.path.join(path, filename)\n",
        "        if not os.path.isfile(filepath):\n",
        "            print(\"Downloading\", filename)\n",
        "            urllib.request.urlretrieve(url + filename, filepath)\n",
        "\n",
        "fetch_titanic_data()"
      ]
    },
    {
      "cell_type": "code",
      "execution_count": null,
      "metadata": {
        "execution": {
          "iopub.execute_input": "2021-11-03T04:28:14.276998Z",
          "iopub.status.busy": "2021-11-03T04:28:14.276427Z",
          "iopub.status.idle": "2021-11-03T04:28:14.452746Z",
          "shell.execute_reply": "2021-11-03T04:28:14.451925Z"
        },
        "id": "lPPI0_9BDqmd"
      },
      "outputs": [],
      "source": [
        "import pandas as pd\n",
        "\n",
        "def load_titanic_data(filename, titanic_path=TITANIC_PATH):\n",
        "    csv_path = os.path.join(titanic_path, filename)\n",
        "    return pd.read_csv(csv_path)"
      ]
    },
    {
      "cell_type": "code",
      "execution_count": null,
      "metadata": {
        "execution": {
          "iopub.execute_input": "2021-11-03T04:28:14.457532Z",
          "iopub.status.busy": "2021-11-03T04:28:14.456518Z",
          "iopub.status.idle": "2021-11-03T04:28:14.467409Z",
          "shell.execute_reply": "2021-11-03T04:28:14.466907Z"
        },
        "id": "VClZN2LyDqmd"
      },
      "outputs": [],
      "source": [
        "train_data = load_titanic_data(\"train.csv\")\n",
        "test_data = load_titanic_data(\"test.csv\")"
      ]
    },
    {
      "cell_type": "markdown",
      "metadata": {
        "id": "rGOWT7HXDqmd"
      },
      "source": [
        "데이터는 이미 훈련 세트와 테스트 세트로 분리되어 있습니다. 그러나 테스트 데이터는 레이블을 가지고 있지 않습니다: 훈련 데이터를 이용하여 가능한 최고의 모델을 만들고 테스트 데이터에 대한 예측을 캐글(Kaggle)에 업로드하여 최종 점수를 확인하는 것이 목표입니다."
      ]
    },
    {
      "cell_type": "markdown",
      "metadata": {
        "id": "Qhw6-lohDqmd"
      },
      "source": [
        "훈련 세트에서 맨 위 몇 개의 열을 살펴 보겠습니다:"
      ]
    },
    {
      "cell_type": "code",
      "execution_count": null,
      "metadata": {
        "execution": {
          "iopub.execute_input": "2021-11-03T04:28:14.480043Z",
          "iopub.status.busy": "2021-11-03T04:28:14.479467Z",
          "iopub.status.idle": "2021-11-03T04:28:14.484957Z",
          "shell.execute_reply": "2021-11-03T04:28:14.485386Z"
        },
        "id": "_0FGhIUdDqmd"
      },
      "outputs": [],
      "source": [
        "train_data.head()"
      ]
    },
    {
      "cell_type": "markdown",
      "metadata": {
        "id": "WKJd6CRqDqmd"
      },
      "source": [
        "속성은 다음과 같은 의미를 가집니다:\n",
        "* **PassengerId**: 각 승객의 고유 식별자.\n",
        "* **Survived**: 타깃입니다. 0은 생존하지 못한 것이고 1은 생존을 의미합니다.\n",
        "* **Pclass**: 승객 등급. 1, 2, 3등석.\n",
        "* **Name**, **Sex**, **Age**: 이름 그대로 의미입니다.\n",
        "* **SibSp**: 함께 탑승한 형제, 배우자의 수.\n",
        "* **Parch**: 함께 탑승한 자녀, 부모의 수.\n",
        "* **Ticket**: 티켓 아이디\n",
        "* **Fare**: 티켓 요금 (파운드)\n",
        "* **Cabin**: 객실 번호\n",
        "* **Embarked**: 승객이 탑승한 곳. C(Cherbourg), Q(Queenstown), S(Southampton)"
      ]
    },
    {
      "cell_type": "markdown",
      "metadata": {
        "id": "PmzLhHq3Dqme"
      },
      "source": [
        "`PassengerId` 열을 인덱스 열로 지정하겠습니다:"
      ]
    },
    {
      "cell_type": "code",
      "execution_count": null,
      "metadata": {
        "execution": {
          "iopub.execute_input": "2021-11-03T04:28:14.491670Z",
          "iopub.status.busy": "2021-11-03T04:28:14.491094Z",
          "iopub.status.idle": "2021-11-03T04:28:14.494665Z",
          "shell.execute_reply": "2021-11-03T04:28:14.494178Z"
        },
        "id": "4z-fH_XaDqme"
      },
      "outputs": [],
      "source": [
        "train_data = train_data.set_index(\"PassengerId\")\n",
        "test_data = test_data.set_index(\"PassengerId\")"
      ]
    },
    {
      "cell_type": "markdown",
      "metadata": {
        "id": "__6SFrMSDqme"
      },
      "source": [
        "누락된 데이터가 얼마나 되는지 알아보겠습니다:"
      ]
    },
    {
      "cell_type": "code",
      "execution_count": null,
      "metadata": {
        "execution": {
          "iopub.execute_input": "2021-11-03T04:28:14.508161Z",
          "iopub.status.busy": "2021-11-03T04:28:14.498138Z",
          "iopub.status.idle": "2021-11-03T04:28:14.511844Z",
          "shell.execute_reply": "2021-11-03T04:28:14.511309Z"
        },
        "id": "Z0tloJeEDqme"
      },
      "outputs": [],
      "source": [
        "train_data.info()"
      ]
    },
    {
      "cell_type": "code",
      "execution_count": null,
      "metadata": {
        "execution": {
          "iopub.execute_input": "2021-11-03T04:28:14.517218Z",
          "iopub.status.busy": "2021-11-03T04:28:14.516213Z",
          "iopub.status.idle": "2021-11-03T04:28:14.520273Z",
          "shell.execute_reply": "2021-11-03T04:28:14.519664Z"
        },
        "id": "zON6UHNIDqme"
      },
      "outputs": [],
      "source": [
        "train_data[train_data[\"Sex\"]==\"female\"][\"Age\"].median()"
      ]
    },
    {
      "cell_type": "markdown",
      "metadata": {
        "id": "D2JKYKVVDqme"
      },
      "source": [
        "좋습니다. **Age**, **Cabin**, **Embarked** 속성의 일부가 null입니다(891개의 non-null 보다 작습니다). 특히 **Cabin**은 77%가 null입니다. 일단 **Cabin**은 무시하고 나머지를 활용하겠습니다. **Age**는 19%가 null이므로 이를 어떻게 처리할지 결정해야 합니다. null을 중간 나이로 바꾸는 것이 괜찮아 보입니다. 다른 열을 사용하여 나이를 예측하는 것(예를 들어, 1등석의 중간 나이는 37, 2등석은 29, 3등석은 24입니다)이 조금 현명해 보일 수 있지만 단순함을 위해 전체의 중간 나이를 사용하겠습니다."
      ]
    },
    {
      "cell_type": "markdown",
      "metadata": {
        "id": "pzK_Wuw6Dqme"
      },
      "source": [
        "**Name**과 **Ticket** 속성도 값을 가지고 있지만 머신러닝 모델이 사용할 수 있는 숫자로 변환하는 것이 조금 까다롭습니다. 그래서 지금은 이 두 속성을 무시하겠습니다."
      ]
    },
    {
      "cell_type": "markdown",
      "metadata": {
        "id": "cXehMDy1Dqme"
      },
      "source": [
        "통계치를 살펴 보겠습니다:"
      ]
    },
    {
      "cell_type": "code",
      "execution_count": null,
      "metadata": {
        "execution": {
          "iopub.execute_input": "2021-11-03T04:28:14.528151Z",
          "iopub.status.busy": "2021-11-03T04:28:14.526926Z",
          "iopub.status.idle": "2021-11-03T04:28:14.545407Z",
          "shell.execute_reply": "2021-11-03T04:28:14.544889Z"
        },
        "id": "b4f10FPQDqme"
      },
      "outputs": [],
      "source": [
        "train_data.describe()"
      ]
    },
    {
      "cell_type": "markdown",
      "metadata": {
        "id": "QR3lhxjgDqmf"
      },
      "source": [
        "* 이크, 38%만 **Survived**입니다. 😭 거의 40%에 가까우므로 정확도를 사용해 모델을 평가해도 괜찮을 것 같습니다.\n",
        "* 평균 **Fare**는 32.20 파운드라 그렇게 비싸보이지는 않습니다(아마 요금을 많이 반환해 주었기 때문일 것입니다)\n",
        "* 평균 **Age**는 30보다 작습니다."
      ]
    },
    {
      "cell_type": "markdown",
      "metadata": {
        "id": "UtZH7Oz_Dqmf"
      },
      "source": [
        "타깃이 0과 1로 이루어졌는지 확인합니다:"
      ]
    },
    {
      "cell_type": "code",
      "execution_count": null,
      "metadata": {
        "execution": {
          "iopub.execute_input": "2021-11-03T04:28:14.550349Z",
          "iopub.status.busy": "2021-11-03T04:28:14.549778Z",
          "iopub.status.idle": "2021-11-03T04:28:14.554996Z",
          "shell.execute_reply": "2021-11-03T04:28:14.554475Z"
        },
        "id": "1dl_AZ7XDqmf"
      },
      "outputs": [],
      "source": [
        "train_data[\"Survived\"].value_counts()"
      ]
    },
    {
      "cell_type": "markdown",
      "metadata": {
        "id": "1O7hqPiHDqmf"
      },
      "source": [
        "범주형 특성들을 확인해 보겠습니다:"
      ]
    },
    {
      "cell_type": "code",
      "execution_count": null,
      "metadata": {
        "execution": {
          "iopub.execute_input": "2021-11-03T04:28:14.559850Z",
          "iopub.status.busy": "2021-11-03T04:28:14.559285Z",
          "iopub.status.idle": "2021-11-03T04:28:14.563733Z",
          "shell.execute_reply": "2021-11-03T04:28:14.563240Z"
        },
        "id": "Q_lA7NV-Dqmf"
      },
      "outputs": [],
      "source": [
        "train_data[\"Pclass\"].value_counts()"
      ]
    },
    {
      "cell_type": "code",
      "execution_count": null,
      "metadata": {
        "execution": {
          "iopub.execute_input": "2021-11-03T04:28:14.568606Z",
          "iopub.status.busy": "2021-11-03T04:28:14.568016Z",
          "iopub.status.idle": "2021-11-03T04:28:14.571429Z",
          "shell.execute_reply": "2021-11-03T04:28:14.570929Z"
        },
        "id": "T0RvJs-UDqmf"
      },
      "outputs": [],
      "source": [
        "train_data[\"Sex\"].value_counts()"
      ]
    },
    {
      "cell_type": "code",
      "execution_count": null,
      "metadata": {
        "execution": {
          "iopub.execute_input": "2021-11-03T04:28:14.576478Z",
          "iopub.status.busy": "2021-11-03T04:28:14.575852Z",
          "iopub.status.idle": "2021-11-03T04:28:14.579103Z",
          "shell.execute_reply": "2021-11-03T04:28:14.578617Z"
        },
        "id": "TzGILVG8Dqmf"
      },
      "outputs": [],
      "source": [
        "train_data[\"Embarked\"].value_counts()"
      ]
    },
    {
      "cell_type": "markdown",
      "metadata": {
        "id": "ZL4Dqb2TDqmf"
      },
      "source": [
        "**Embarked** 특성은 승객이 탑승한 곳을 알려 줍니다: C=Cherbourg, Q=Queenstown, S=Southampton."
      ]
    },
    {
      "cell_type": "markdown",
      "metadata": {
        "id": "h-3oZMYDDqmf"
      },
      "source": [
        "수치 특성을 위한 파이프라인부터 시작해서 전처리 파이프라인을 만들어 보죠:"
      ]
    },
    {
      "cell_type": "code",
      "execution_count": null,
      "metadata": {
        "execution": {
          "iopub.execute_input": "2021-11-03T04:28:14.583436Z",
          "iopub.status.busy": "2021-11-03T04:28:14.582559Z",
          "iopub.status.idle": "2021-11-03T04:28:14.587061Z",
          "shell.execute_reply": "2021-11-03T04:28:14.586297Z"
        },
        "id": "wovxaNTPDqmg"
      },
      "outputs": [],
      "source": [
        "from sklearn.pipeline import Pipeline\n",
        "from sklearn.impute import SimpleImputer\n",
        "from sklearn.preprocessing import StandardScaler\n",
        "\n",
        "num_pipeline = Pipeline([\n",
        "        (\"imputer\", SimpleImputer(strategy=\"median\")),\n",
        "        (\"scaler\", StandardScaler())\n",
        "    ])"
      ]
    },
    {
      "cell_type": "markdown",
      "metadata": {
        "id": "L-oCLWENDqmg"
      },
      "source": [
        "이제 범주형 특성을 위한 파이프라인을 만듭니다:"
      ]
    },
    {
      "cell_type": "code",
      "execution_count": null,
      "metadata": {
        "execution": {
          "iopub.execute_input": "2021-11-03T04:28:14.590719Z",
          "iopub.status.busy": "2021-11-03T04:28:14.590053Z",
          "iopub.status.idle": "2021-11-03T04:28:14.592479Z",
          "shell.execute_reply": "2021-11-03T04:28:14.591973Z"
        },
        "id": "GRwRMmozDqmg"
      },
      "outputs": [],
      "source": [
        "from sklearn.preprocessing import OneHotEncoder"
      ]
    },
    {
      "cell_type": "code",
      "execution_count": null,
      "metadata": {
        "execution": {
          "iopub.execute_input": "2021-11-03T04:28:14.596428Z",
          "iopub.status.busy": "2021-11-03T04:28:14.595785Z",
          "iopub.status.idle": "2021-11-03T04:28:14.598383Z",
          "shell.execute_reply": "2021-11-03T04:28:14.597603Z"
        },
        "id": "hFmnpWndDqmg"
      },
      "outputs": [],
      "source": [
        "cat_pipeline = Pipeline([\n",
        "        (\"imputer\", SimpleImputer(strategy=\"most_frequent\")),\n",
        "        (\"cat_encoder\", OneHotEncoder(sparse=False)),\n",
        "    ])"
      ]
    },
    {
      "cell_type": "markdown",
      "metadata": {
        "id": "yYThcg9BDqmg"
      },
      "source": [
        "마지막으로 숫자와 범주형 파이프라인을 연결합니다:"
      ]
    },
    {
      "cell_type": "code",
      "execution_count": null,
      "metadata": {
        "execution": {
          "iopub.execute_input": "2021-11-03T04:28:14.602478Z",
          "iopub.status.busy": "2021-11-03T04:28:14.601901Z",
          "iopub.status.idle": "2021-11-03T04:28:14.605462Z",
          "shell.execute_reply": "2021-11-03T04:28:14.604927Z"
        },
        "id": "8-JdKyYDDqmg"
      },
      "outputs": [],
      "source": [
        "from sklearn.compose import ColumnTransformer\n",
        "\n",
        "num_attribs = [\"Age\", \"SibSp\", \"Parch\", \"Fare\"]\n",
        "cat_attribs = [\"Pclass\", \"Sex\", \"Embarked\"]\n",
        "\n",
        "preprocess_pipeline = ColumnTransformer([\n",
        "        (\"num\", num_pipeline, num_attribs),\n",
        "        (\"cat\", cat_pipeline, cat_attribs),\n",
        "    ])"
      ]
    },
    {
      "cell_type": "markdown",
      "metadata": {
        "id": "QPrHrWXkDqmg"
      },
      "source": [
        "좋습니다! 이제 원본 데이터를 받아 머신러닝 모델에 주입할 숫자 입력 특성을 출력하는 전처리 파이프라인을 만들었습니다."
      ]
    },
    {
      "cell_type": "code",
      "execution_count": null,
      "metadata": {
        "execution": {
          "iopub.execute_input": "2021-11-03T04:28:14.613105Z",
          "iopub.status.busy": "2021-11-03T04:28:14.612510Z",
          "iopub.status.idle": "2021-11-03T04:28:14.625521Z",
          "shell.execute_reply": "2021-11-03T04:28:14.624984Z"
        },
        "id": "2l7yGJl_Dqmg"
      },
      "outputs": [],
      "source": [
        "X_train = preprocess_pipeline.fit_transform(\n",
        "    train_data[num_attribs + cat_attribs])\n",
        "X_train"
      ]
    },
    {
      "cell_type": "markdown",
      "metadata": {
        "id": "8GQzRGHdDqmg"
      },
      "source": [
        "레이블을 가져옵니다:"
      ]
    },
    {
      "cell_type": "code",
      "execution_count": null,
      "metadata": {
        "execution": {
          "iopub.execute_input": "2021-11-03T04:28:14.628875Z",
          "iopub.status.busy": "2021-11-03T04:28:14.628308Z",
          "iopub.status.idle": "2021-11-03T04:28:14.630811Z",
          "shell.execute_reply": "2021-11-03T04:28:14.630285Z"
        },
        "id": "VxHp9qxDDqmh"
      },
      "outputs": [],
      "source": [
        "y_train = train_data[\"Survived\"]"
      ]
    },
    {
      "cell_type": "markdown",
      "metadata": {
        "id": "-nUVU5D9Dqmh"
      },
      "source": [
        "이제 분류기를 훈련시킬 차례입니다. 먼저 `RandomForestClassifier`를 사용해 보겠습니다:"
      ]
    },
    {
      "cell_type": "code",
      "execution_count": null,
      "metadata": {
        "execution": {
          "iopub.execute_input": "2021-11-03T04:28:14.645017Z",
          "iopub.status.busy": "2021-11-03T04:28:14.636245Z",
          "iopub.status.idle": "2021-11-03T04:28:14.794139Z",
          "shell.execute_reply": "2021-11-03T04:28:14.794563Z"
        },
        "id": "rPai9TFPDqmh"
      },
      "outputs": [],
      "source": [
        "from sklearn.ensemble import RandomForestClassifier\n",
        "\n",
        "forest_clf = RandomForestClassifier(n_estimators=100, random_state=42)\n",
        "forest_clf.fit(X_train, y_train)"
      ]
    },
    {
      "cell_type": "markdown",
      "metadata": {
        "id": "-iu8guOzDqmh"
      },
      "source": [
        "모델이 잘 훈련된 것 같습니다. 이를 사용해서 테스트 세트에 대한 예측을 만듭니다:"
      ]
    },
    {
      "cell_type": "code",
      "execution_count": null,
      "metadata": {
        "execution": {
          "iopub.execute_input": "2021-11-03T04:28:14.797261Z",
          "iopub.status.busy": "2021-11-03T04:28:14.796678Z",
          "iopub.status.idle": "2021-11-03T04:28:14.820797Z",
          "shell.execute_reply": "2021-11-03T04:28:14.821192Z"
        },
        "id": "oF7C7xZcDqmh"
      },
      "outputs": [],
      "source": [
        "X_test = preprocess_pipeline.transform(test_data[num_attribs + cat_attribs])\n",
        "y_pred = forest_clf.predict(X_test)"
      ]
    },
    {
      "cell_type": "markdown",
      "metadata": {
        "id": "9IvUXTWfDqmh"
      },
      "source": [
        "이 예측 결과를 (캐글에서 기대하는 형태인) CSV 파일로 만들어 업로드하고 평가를 받아볼 수 있습니다. 하지만 그냥 좋을거라 기대하는 것보다 교차 검증으로 모델이 얼마나 좋은지 평가하는 것이 좋습니다."
      ]
    },
    {
      "cell_type": "code",
      "execution_count": null,
      "metadata": {
        "execution": {
          "iopub.execute_input": "2021-11-03T04:28:14.823890Z",
          "iopub.status.busy": "2021-11-03T04:28:14.823313Z",
          "iopub.status.idle": "2021-11-03T04:28:16.429802Z",
          "shell.execute_reply": "2021-11-03T04:28:16.430235Z"
        },
        "id": "cS-IWLT2Dqmh"
      },
      "outputs": [],
      "source": [
        "from sklearn.model_selection import cross_val_score\n",
        "\n",
        "forest_scores = cross_val_score(forest_clf, X_train, y_train, cv=10)\n",
        "forest_scores.mean()"
      ]
    },
    {
      "cell_type": "markdown",
      "metadata": {
        "id": "rw78XtjBDqmh"
      },
      "source": [
        "아주 나쁘지 않네요! 캐글에서 타이타닉 경연 대회의 [리더보드](https://www.kaggle.com/c/titanic/leaderboard)에서 상위 2% 안에 든 점수를 볼 수 있습니다. 와우! 어떤 사람들은 100%를 달성했습니다. 하지만 타이타닉의 [희생자 목록](https://www.encyclopedia-titanica.org/titanic-victims/)을 쉽게 찾을 수 있으므로 머신러닝을 사용하지 않고도 이런 정확도를 달성할 수 있습니다! 😆"
      ]
    },
    {
      "cell_type": "markdown",
      "metadata": {
        "id": "z4Bmnm9sDqmi"
      },
      "source": [
        "`SVC`를 적용해 보겠습니다:"
      ]
    },
    {
      "cell_type": "code",
      "execution_count": null,
      "metadata": {
        "execution": {
          "iopub.execute_input": "2021-11-03T04:28:16.434420Z",
          "iopub.status.busy": "2021-11-03T04:28:16.432871Z",
          "iopub.status.idle": "2021-11-03T04:28:16.689760Z",
          "shell.execute_reply": "2021-11-03T04:28:16.690179Z"
        },
        "id": "-UNy4DL1Dqmi"
      },
      "outputs": [],
      "source": [
        "from sklearn.svm import SVC\n",
        "\n",
        "svm_clf = SVC(gamma=\"auto\")\n",
        "svm_scores = cross_val_score(svm_clf, X_train, y_train, cv=10)\n",
        "svm_scores.mean()"
      ]
    },
    {
      "cell_type": "markdown",
      "metadata": {
        "id": "SK2Fcme5Dqmi"
      },
      "source": [
        "좋네요! 이 모델이 훨씬 나아보입니다."
      ]
    },
    {
      "cell_type": "markdown",
      "metadata": {
        "id": "ghudfN4JDqmi"
      },
      "source": [
        "하지만 10 폴드 교차 검증에 대한 평균 정확도를 보는 대신 모델에서 얻은 10개의 점수를 1사분위, 3사분위를 명료하게 표현해주는 상자 수염 그림(box-and-whisker) 그래프를 만들어 보겠습니다(이 방식을 제안해 준 Nevin Yilmaz에게 감사합니다). `boxplot()` 함수는 이상치(플라이어(flier)라고 부릅니다)를 감지하고 수염 부분에 이를 포함시키지 않습니다. 1사분위가 $Q_1$이고 3사분위가 $Q_3$이라면 사분위수 범위는 $IQR = Q_3 - Q_1$가 됩니다(이 값이 박스의 높이가 됩니다). $Q_1 - 1.5 \\times IQR$ 보다 낮거나 $Q3 + 1.5 \\times IQR$ 보다 높은 점수는 이상치로 간주됩니다."
      ]
    },
    {
      "cell_type": "code",
      "execution_count": null,
      "metadata": {
        "execution": {
          "iopub.execute_input": "2021-11-03T04:28:16.713478Z",
          "iopub.status.busy": "2021-11-03T04:28:16.709152Z",
          "iopub.status.idle": "2021-11-03T04:28:16.818696Z",
          "shell.execute_reply": "2021-11-03T04:28:16.819087Z"
        },
        "id": "UNrU-7DMDqmi"
      },
      "outputs": [],
      "source": [
        "import matplotlib.pyplot as plt\n",
        "\n",
        "plt.figure(figsize=(8, 4))\n",
        "plt.plot([1]*10, svm_scores, \".\")\n",
        "plt.plot([2]*10, forest_scores, \".\")\n",
        "plt.boxplot([svm_scores, forest_scores], labels=(\"SVM\",\"Random Forest\"))\n",
        "plt.ylabel(\"Accuracy\", fontsize=14)\n",
        "plt.show()"
      ]
    },
    {
      "cell_type": "markdown",
      "metadata": {
        "id": "nbbEfx3-Dqmi"
      },
      "source": [
        "랜덤 포레스트 분류기가 10개의 폴드 중 하나에서 매우 높은 점수를 얻었지만 넓게 퍼져 있기 때문에 전체적인 평균 점수는 낮습니다. 따라서 SVM 분류기가 일반화를 더 잘하는 것 같습니다."
      ]
    },
    {
      "cell_type": "markdown",
      "metadata": {
        "id": "afCi9OwDDqmi"
      },
      "source": [
        "이 결과를 더 향상시키려면:\n",
        "* 교차 검증과 그리드 탐색을 사용하여 더 많은 모델을 비교하고 하이퍼파라미터를 튜닝하세요.\n",
        "* 특성 공학을 더 시도해 보세요, 예를 들면:\n",
        "  * 수치 특성을 범주형 특성으로 바꾸어 보세요: 예를 들어, 나이대가 다른 경우 다른 생존 비율을 가질 수 있습니다(아래 참조). 그러므로 나이 구간을 범주로 만들어 나이 대신 사용하는 것이 도움이 될 수 있스니다. 비슷하게 생존자의 30%가 혼자 여행하는 사람이기 때문에 이들을 위한 특별한 범주를 만드는 것이 도움이 될 수 있습니다(아래 참조).\n",
        "  * **SibSp**와 **Parch**을 이 두 특성의 합으로 바꿉니다.\n",
        "  * **Survived** 특성과 관련된 이름을 구별해 보세요.\n",
        "  * **Cabin** 열을 사용하세요. 예를 들어 첫 글자를 범주형 속성처럼 다룰 수 있습니다."
      ]
    },
    {
      "cell_type": "code",
      "execution_count": null,
      "metadata": {
        "execution": {
          "iopub.execute_input": "2021-11-03T04:28:16.832623Z",
          "iopub.status.busy": "2021-11-03T04:28:16.832026Z",
          "iopub.status.idle": "2021-11-03T04:28:16.837541Z",
          "shell.execute_reply": "2021-11-03T04:28:16.837933Z"
        },
        "id": "nYKMZg68Dqmi"
      },
      "outputs": [],
      "source": [
        "train_data[\"AgeBucket\"] = train_data[\"Age\"] // 15 * 15\n",
        "train_data[[\"AgeBucket\", \"Survived\"]].groupby(['AgeBucket']).mean()"
      ]
    },
    {
      "cell_type": "code",
      "execution_count": null,
      "metadata": {
        "execution": {
          "iopub.execute_input": "2021-11-03T04:28:16.848086Z",
          "iopub.status.busy": "2021-11-03T04:28:16.844650Z",
          "iopub.status.idle": "2021-11-03T04:28:16.851410Z",
          "shell.execute_reply": "2021-11-03T04:28:16.850884Z"
        },
        "id": "T-EtoToNDqmj"
      },
      "outputs": [],
      "source": [
        "train_data[\"RelativesOnboard\"] = train_data[\"SibSp\"] + train_data[\"Parch\"]\n",
        "train_data[[\"RelativesOnboard\", \"Survived\"]].groupby(['RelativesOnboard']).mean()"
      ]
    },
    {
      "cell_type": "markdown",
      "metadata": {
        "id": "iA1LXxNCDqmj"
      },
      "source": [
        "## 4. 스팸 필터"
      ]
    },
    {
      "cell_type": "markdown",
      "metadata": {
        "id": "RLoIdE1PDqmj"
      },
      "source": [
        "먼저 데이터를 다운받습니다:"
      ]
    },
    {
      "cell_type": "code",
      "execution_count": null,
      "metadata": {
        "execution": {
          "iopub.execute_input": "2021-11-03T04:28:16.857519Z",
          "iopub.status.busy": "2021-11-03T04:28:16.856892Z",
          "iopub.status.idle": "2021-11-03T04:28:16.859477Z",
          "shell.execute_reply": "2021-11-03T04:28:16.858912Z"
        },
        "id": "QyQmRn1EDqmj"
      },
      "outputs": [],
      "source": [
        "import os\n",
        "import tarfile\n",
        "import urllib.request\n",
        "\n",
        "DOWNLOAD_ROOT = \"http://spamassassin.apache.org/old/publiccorpus/\"\n",
        "HAM_URL = DOWNLOAD_ROOT + \"20030228_easy_ham.tar.bz2\"\n",
        "SPAM_URL = DOWNLOAD_ROOT + \"20030228_spam.tar.bz2\"\n",
        "SPAM_PATH = os.path.join(\"datasets\", \"spam\")\n",
        "\n",
        "def fetch_spam_data(ham_url=HAM_URL, spam_url=SPAM_URL, spam_path=SPAM_PATH):\n",
        "    if not os.path.isdir(spam_path):\n",
        "        os.makedirs(spam_path)\n",
        "    for filename, url in ((\"ham.tar.bz2\", ham_url), (\"spam.tar.bz2\", spam_url)):\n",
        "        path = os.path.join(spam_path, filename)\n",
        "        if not os.path.isfile(path):\n",
        "            urllib.request.urlretrieve(url, path)\n",
        "        tar_bz2_file = tarfile.open(path)\n",
        "        tar_bz2_file.extractall(path=spam_path)\n",
        "        tar_bz2_file.close()"
      ]
    },
    {
      "cell_type": "code",
      "execution_count": null,
      "metadata": {
        "execution": {
          "iopub.execute_input": "2021-11-03T04:28:16.862864Z",
          "iopub.status.busy": "2021-11-03T04:28:16.862304Z",
          "iopub.status.idle": "2021-11-03T04:28:17.958863Z",
          "shell.execute_reply": "2021-11-03T04:28:17.959350Z"
        },
        "id": "VjEfScT7Dqmj"
      },
      "outputs": [],
      "source": [
        "fetch_spam_data()"
      ]
    },
    {
      "cell_type": "markdown",
      "metadata": {
        "id": "IW-t-oEjDqmj"
      },
      "source": [
        "다음, 모든 이메일을 읽어 들입니다:"
      ]
    },
    {
      "cell_type": "code",
      "execution_count": null,
      "metadata": {
        "execution": {
          "iopub.execute_input": "2021-11-03T04:28:17.962176Z",
          "iopub.status.busy": "2021-11-03T04:28:17.961602Z",
          "iopub.status.idle": "2021-11-03T04:28:17.968334Z",
          "shell.execute_reply": "2021-11-03T04:28:17.968743Z"
        },
        "id": "ej4vOx3VDqmj"
      },
      "outputs": [],
      "source": [
        "HAM_DIR = os.path.join(SPAM_PATH, \"easy_ham\")\n",
        "SPAM_DIR = os.path.join(SPAM_PATH, \"spam\")\n",
        "ham_filenames = [name for name in sorted(os.listdir(HAM_DIR)) if len(name) > 20]\n",
        "spam_filenames = [name for name in sorted(os.listdir(SPAM_DIR)) if len(name) > 20]"
      ]
    },
    {
      "cell_type": "code",
      "execution_count": null,
      "metadata": {
        "execution": {
          "iopub.execute_input": "2021-11-03T04:28:17.971224Z",
          "iopub.status.busy": "2021-11-03T04:28:17.970659Z",
          "iopub.status.idle": "2021-11-03T04:28:17.974643Z",
          "shell.execute_reply": "2021-11-03T04:28:17.974163Z"
        },
        "id": "aY8WoMKADqmj"
      },
      "outputs": [],
      "source": [
        "len(ham_filenames)"
      ]
    },
    {
      "cell_type": "code",
      "execution_count": null,
      "metadata": {
        "execution": {
          "iopub.execute_input": "2021-11-03T04:28:17.978792Z",
          "iopub.status.busy": "2021-11-03T04:28:17.978135Z",
          "iopub.status.idle": "2021-11-03T04:28:17.980915Z",
          "shell.execute_reply": "2021-11-03T04:28:17.981360Z"
        },
        "id": "sozxDn6ZDqmk"
      },
      "outputs": [],
      "source": [
        "len(spam_filenames)"
      ]
    },
    {
      "cell_type": "markdown",
      "metadata": {
        "id": "rxcQLK5zDqmk"
      },
      "source": [
        "파이썬의 `email` 모듈을 사용해 이메일을 파싱합니다(헤더, 인코딩 등을 처리합니다):"
      ]
    },
    {
      "cell_type": "code",
      "execution_count": null,
      "metadata": {
        "execution": {
          "iopub.execute_input": "2021-11-03T04:28:17.986027Z",
          "iopub.status.busy": "2021-11-03T04:28:17.985446Z",
          "iopub.status.idle": "2021-11-03T04:28:17.993620Z",
          "shell.execute_reply": "2021-11-03T04:28:17.994009Z"
        },
        "id": "MIJQ--nFDqmk"
      },
      "outputs": [],
      "source": [
        "import email\n",
        "import email.policy\n",
        "\n",
        "def load_email(is_spam, filename, spam_path=SPAM_PATH):\n",
        "    directory = \"spam\" if is_spam else \"easy_ham\"\n",
        "    with open(os.path.join(spam_path, directory, filename), \"rb\") as f:\n",
        "        return email.parser.BytesParser(policy=email.policy.default).parse(f)"
      ]
    },
    {
      "cell_type": "code",
      "execution_count": null,
      "metadata": {
        "execution": {
          "iopub.execute_input": "2021-11-03T04:28:18.001130Z",
          "iopub.status.busy": "2021-11-03T04:28:17.999380Z",
          "iopub.status.idle": "2021-11-03T04:28:20.251689Z",
          "shell.execute_reply": "2021-11-03T04:28:20.251008Z"
        },
        "id": "RydObU2jDqmk"
      },
      "outputs": [],
      "source": [
        "ham_emails = [load_email(is_spam=False, filename=name) for name in ham_filenames]\n",
        "spam_emails = [load_email(is_spam=True, filename=name) for name in spam_filenames]"
      ]
    },
    {
      "cell_type": "markdown",
      "metadata": {
        "id": "LLbjp_JxDqmk"
      },
      "source": [
        "데이터가 어떻게 구성되어 있는지 감을 잡기 위해 햄 메일과 스팸 메일을 하나씩 보겠습니다:"
      ]
    },
    {
      "cell_type": "code",
      "execution_count": null,
      "metadata": {
        "execution": {
          "iopub.execute_input": "2021-11-03T04:28:20.256222Z",
          "iopub.status.busy": "2021-11-03T04:28:20.255658Z",
          "iopub.status.idle": "2021-11-03T04:28:20.258581Z",
          "shell.execute_reply": "2021-11-03T04:28:20.258106Z"
        },
        "id": "PatI-Om3Dqmk"
      },
      "outputs": [],
      "source": [
        "print(ham_emails[1].get_content().strip())"
      ]
    },
    {
      "cell_type": "code",
      "execution_count": null,
      "metadata": {
        "execution": {
          "iopub.execute_input": "2021-11-03T04:28:20.262771Z",
          "iopub.status.busy": "2021-11-03T04:28:20.262191Z",
          "iopub.status.idle": "2021-11-03T04:28:20.265118Z",
          "shell.execute_reply": "2021-11-03T04:28:20.264660Z"
        },
        "id": "MV6_6qu4Dqmk"
      },
      "outputs": [],
      "source": [
        "print(spam_emails[6].get_content().strip())"
      ]
    },
    {
      "cell_type": "markdown",
      "metadata": {
        "id": "C9rxYVGLDqml"
      },
      "source": [
        "어떤 이메일은 이미지나 첨부 파일을 가진 멀티파트(multipart)입니다(메일에 포함되어 있을수 있습니다). 어떤 파일들이 있는지 살펴 보겠습니다:"
      ]
    },
    {
      "cell_type": "code",
      "execution_count": null,
      "metadata": {
        "execution": {
          "iopub.execute_input": "2021-11-03T04:28:20.269656Z",
          "iopub.status.busy": "2021-11-03T04:28:20.269058Z",
          "iopub.status.idle": "2021-11-03T04:28:20.271568Z",
          "shell.execute_reply": "2021-11-03T04:28:20.271054Z"
        },
        "id": "Xpk1rUfTDqml"
      },
      "outputs": [],
      "source": [
        "def get_email_structure(email):\n",
        "    if isinstance(email, str):\n",
        "        return email\n",
        "    payload = email.get_payload()\n",
        "    if isinstance(payload, list):\n",
        "        return \"multipart({})\".format(\", \".join([\n",
        "            get_email_structure(sub_email)\n",
        "            for sub_email in payload\n",
        "        ]))\n",
        "    else:\n",
        "        return email.get_content_type()"
      ]
    },
    {
      "cell_type": "code",
      "execution_count": null,
      "metadata": {
        "execution": {
          "iopub.execute_input": "2021-11-03T04:28:20.275922Z",
          "iopub.status.busy": "2021-11-03T04:28:20.275350Z",
          "iopub.status.idle": "2021-11-03T04:28:20.278581Z",
          "shell.execute_reply": "2021-11-03T04:28:20.278960Z"
        },
        "id": "2hPsivr4Dqml"
      },
      "outputs": [],
      "source": [
        "from collections import Counter\n",
        "\n",
        "def structures_counter(emails):\n",
        "    structures = Counter()\n",
        "    for email in emails:\n",
        "        structure = get_email_structure(email)\n",
        "        structures[structure] += 1\n",
        "    return structures"
      ]
    },
    {
      "cell_type": "code",
      "execution_count": null,
      "metadata": {
        "execution": {
          "iopub.execute_input": "2021-11-03T04:28:20.307388Z",
          "iopub.status.busy": "2021-11-03T04:28:20.297011Z",
          "iopub.status.idle": "2021-11-03T04:28:20.596605Z",
          "shell.execute_reply": "2021-11-03T04:28:20.597037Z"
        },
        "id": "zhLgZfvsDqml"
      },
      "outputs": [],
      "source": [
        "structures_counter(ham_emails).most_common()"
      ]
    },
    {
      "cell_type": "code",
      "execution_count": null,
      "metadata": {
        "execution": {
          "iopub.execute_input": "2021-11-03T04:28:20.606934Z",
          "iopub.status.busy": "2021-11-03T04:28:20.606354Z",
          "iopub.status.idle": "2021-11-03T04:28:20.708519Z",
          "shell.execute_reply": "2021-11-03T04:28:20.707965Z"
        },
        "id": "enRvzYYhDqml"
      },
      "outputs": [],
      "source": [
        "structures_counter(spam_emails).most_common()"
      ]
    },
    {
      "cell_type": "markdown",
      "metadata": {
        "id": "3E0lLuXjDqml"
      },
      "source": [
        "햄 메일은 평범한 텍스트가 많고 스팸은 HTML일 경우가 많습니다. 적은 수의 햄 이메일이 PGP로 서명되어 있지만 스팸 메일에는 없습니다. 요약하면 이메일 구조는 유용한 정보입니다."
      ]
    },
    {
      "cell_type": "markdown",
      "metadata": {
        "id": "Znk6QfFQDqmm"
      },
      "source": [
        "이제 이메일 헤더를 살펴보겠습니다:"
      ]
    },
    {
      "cell_type": "code",
      "execution_count": null,
      "metadata": {
        "execution": {
          "iopub.execute_input": "2021-11-03T04:28:20.715015Z",
          "iopub.status.busy": "2021-11-03T04:28:20.713816Z",
          "iopub.status.idle": "2021-11-03T04:28:20.720975Z",
          "shell.execute_reply": "2021-11-03T04:28:20.720460Z"
        },
        "id": "BF2yTSUIDqmm"
      },
      "outputs": [],
      "source": [
        "for header, value in spam_emails[0].items():\n",
        "    print(header,\":\",value)"
      ]
    },
    {
      "cell_type": "markdown",
      "metadata": {
        "id": "hk5SxCjCDqmm"
      },
      "source": [
        "보낸사람의 이메일 주소와 같이 헤더에는 유용한 정보가 많이 있지만 여기서는 `Subject` 헤더만 다뤄 보겠습니다:"
      ]
    },
    {
      "cell_type": "code",
      "execution_count": null,
      "metadata": {
        "execution": {
          "iopub.execute_input": "2021-11-03T04:28:20.725882Z",
          "iopub.status.busy": "2021-11-03T04:28:20.725064Z",
          "iopub.status.idle": "2021-11-03T04:28:20.728659Z",
          "shell.execute_reply": "2021-11-03T04:28:20.729052Z"
        },
        "id": "szJFEQ_2Dqmm"
      },
      "outputs": [],
      "source": [
        "spam_emails[0][\"Subject\"]"
      ]
    },
    {
      "cell_type": "markdown",
      "metadata": {
        "id": "N9eoD0VmDqmm"
      },
      "source": [
        "좋습니다. 데이터에를 더 살펴보기 전에 훈련 세트와 테스트 세트로 나누도록 하겠습니다:"
      ]
    },
    {
      "cell_type": "code",
      "execution_count": null,
      "metadata": {
        "execution": {
          "iopub.execute_input": "2021-11-03T04:28:20.740792Z",
          "iopub.status.busy": "2021-11-03T04:28:20.739808Z",
          "iopub.status.idle": "2021-11-03T04:28:20.743614Z",
          "shell.execute_reply": "2021-11-03T04:28:20.743133Z"
        },
        "id": "2fkEJpKdDqmm"
      },
      "outputs": [],
      "source": [
        "import numpy as np\n",
        "from sklearn.model_selection import train_test_split\n",
        "\n",
        "X = np.array(ham_emails + spam_emails, dtype=object)\n",
        "y = np.array([0] * len(ham_emails) + [1] * len(spam_emails))\n",
        "\n",
        "X_train, X_test, y_train, y_test = train_test_split(X, y, test_size=0.2, random_state=42)"
      ]
    },
    {
      "cell_type": "markdown",
      "metadata": {
        "id": "N6Df-865Dqmm"
      },
      "source": [
        "이제 전처리 함수를 작성하겠습니다. 먼저 HTML을 일반 텍스트로 변환하는 함수가 필요합니다. 이 작업에는 당연히 [BeautifulSoup](https://www.crummy.com/software/BeautifulSoup/) 라이브러리를 사용하는게 좋지만 의존성을 줄이기 위해서 정규식을 사용하여 대강 만들어 보겠습니다([un̨ho͞ly radiańcé destro҉ying all enli̍̈́̂̈́ghtenment](https://stackoverflow.com/a/1732454/38626)의 위험에도 불구하고). 다음 함수는 `<head>` 섹션을 삭제하고 모든 `<a>` 태그를 HYPERLINK 문자로 바꿉니다. 그런 다음 모든 HTML 태그를 제거하고 텍스트만 남깁니다. 보기 편하게 여러개의 개행 문자를 하나로 만들고 (`&gt;`나 `&nbsp;` 같은) html 엔티티를 복원합니다:"
      ]
    },
    {
      "cell_type": "code",
      "execution_count": null,
      "metadata": {
        "execution": {
          "iopub.execute_input": "2021-11-03T04:28:20.748751Z",
          "iopub.status.busy": "2021-11-03T04:28:20.748163Z",
          "iopub.status.idle": "2021-11-03T04:28:20.751505Z",
          "shell.execute_reply": "2021-11-03T04:28:20.751027Z"
        },
        "id": "aFCP0ky8Dqmm"
      },
      "outputs": [],
      "source": [
        "import re\n",
        "from html import unescape\n",
        "\n",
        "def html_to_plain_text(html):\n",
        "    text = re.sub('<head.*?>.*?</head>', '', html, flags=re.M | re.S | re.I)\n",
        "    text = re.sub('<a\\s.*?>', ' HYPERLINK ', text, flags=re.M | re.S | re.I)\n",
        "    text = re.sub('<.*?>', '', text, flags=re.M | re.S)\n",
        "    text = re.sub(r'(\\s*\\n)+', '\\n', text, flags=re.M | re.S)\n",
        "    return unescape(text)"
      ]
    },
    {
      "cell_type": "markdown",
      "metadata": {
        "id": "F3OMsJAIDqmm"
      },
      "source": [
        "잘 작동하는지 확인해 보겠습니다. 다음은 HTML 스팸입니다:"
      ]
    },
    {
      "cell_type": "code",
      "execution_count": null,
      "metadata": {
        "execution": {
          "iopub.execute_input": "2021-11-03T04:28:20.765192Z",
          "iopub.status.busy": "2021-11-03T04:28:20.759883Z",
          "iopub.status.idle": "2021-11-03T04:28:20.835366Z",
          "shell.execute_reply": "2021-11-03T04:28:20.835790Z"
        },
        "id": "XzTgnC55Dqmm"
      },
      "outputs": [],
      "source": [
        "html_spam_emails = [email for email in X_train[y_train==1]\n",
        "                    if get_email_structure(email) == \"text/html\"]\n",
        "sample_html_spam = html_spam_emails[7]\n",
        "print(sample_html_spam.get_content().strip()[:1000], \"...\")"
      ]
    },
    {
      "cell_type": "markdown",
      "metadata": {
        "id": "5JS6BjlEDqmn"
      },
      "source": [
        "변환된 텍스트입니다:"
      ]
    },
    {
      "cell_type": "code",
      "execution_count": null,
      "metadata": {
        "execution": {
          "iopub.execute_input": "2021-11-03T04:28:20.842725Z",
          "iopub.status.busy": "2021-11-03T04:28:20.841461Z",
          "iopub.status.idle": "2021-11-03T04:28:20.844780Z",
          "shell.execute_reply": "2021-11-03T04:28:20.844265Z"
        },
        "id": "bSQaQWMPDqmn"
      },
      "outputs": [],
      "source": [
        "print(html_to_plain_text(sample_html_spam.get_content())[:1000], \"...\")"
      ]
    },
    {
      "cell_type": "markdown",
      "metadata": {
        "id": "PvvlQmUuDqmn"
      },
      "source": [
        "아주 좋습니다! 이제 포맷에 상관없이 이메일을 입력으로 받아서 일반 텍스트를 출력하는 함수를 만들겠습니다:"
      ]
    },
    {
      "cell_type": "code",
      "execution_count": null,
      "metadata": {
        "execution": {
          "iopub.execute_input": "2021-11-03T04:28:20.850617Z",
          "iopub.status.busy": "2021-11-03T04:28:20.849423Z",
          "iopub.status.idle": "2021-11-03T04:28:20.851259Z",
          "shell.execute_reply": "2021-11-03T04:28:20.851686Z"
        },
        "id": "sYkb3WR3Dqmn"
      },
      "outputs": [],
      "source": [
        "def email_to_text(email):\n",
        "    html = None\n",
        "    for part in email.walk():\n",
        "        ctype = part.get_content_type()\n",
        "        if not ctype in (\"text/plain\", \"text/html\"):\n",
        "            continue\n",
        "        try:\n",
        "            content = part.get_content()\n",
        "        except: # in case of encoding issues\n",
        "            content = str(part.get_payload())\n",
        "        if ctype == \"text/plain\":\n",
        "            return content\n",
        "        else:\n",
        "            html = content\n",
        "    if html:\n",
        "        return html_to_plain_text(html)"
      ]
    },
    {
      "cell_type": "code",
      "execution_count": null,
      "metadata": {
        "execution": {
          "iopub.execute_input": "2021-11-03T04:28:20.856642Z",
          "iopub.status.busy": "2021-11-03T04:28:20.855881Z",
          "iopub.status.idle": "2021-11-03T04:28:20.858564Z",
          "shell.execute_reply": "2021-11-03T04:28:20.858980Z"
        },
        "id": "OGhMa3bVDqmn"
      },
      "outputs": [],
      "source": [
        "print(email_to_text(sample_html_spam)[:100], \"...\")"
      ]
    },
    {
      "cell_type": "markdown",
      "metadata": {
        "id": "63oofbQADqmn"
      },
      "source": [
        "어간 추출을 해보죠! 이 작업을 하려면 자연어 처리 툴킷([NLTK](http://www.nltk.org/))을 설치해야 합니다. 다음 명령으로 간단히 설치할 수 있습니다(먼저 virtualenv 환경을 활성화시켜야 합니다. 별도의 환경이 없다면 어드민 권한이 필요할지 모릅니다. 아니면 `--user` 옵션을 사용하세요):\n",
        "\n",
        "`$ pip install nltk`"
      ]
    },
    {
      "cell_type": "code",
      "execution_count": null,
      "metadata": {
        "execution": {
          "iopub.execute_input": "2021-11-03T04:28:20.863401Z",
          "iopub.status.busy": "2021-11-03T04:28:20.862692Z",
          "iopub.status.idle": "2021-11-03T04:28:21.107068Z",
          "shell.execute_reply": "2021-11-03T04:28:21.106539Z"
        },
        "id": "dJ6GgkH-Dqmn"
      },
      "outputs": [],
      "source": [
        "try:\n",
        "    import nltk\n",
        "\n",
        "    stemmer = nltk.PorterStemmer()\n",
        "    for word in (\"Computations\", \"Computation\", \"Computing\", \"Computed\", \"Compute\", \"Compulsive\"):\n",
        "        print(word, \"=>\", stemmer.stem(word))\n",
        "except ImportError:\n",
        "    print(\"Error: stemming requires the NLTK module.\")\n",
        "    stemmer = None"
      ]
    },
    {
      "cell_type": "markdown",
      "metadata": {
        "id": "D7RNqvq2Dqmn"
      },
      "source": [
        "인터넷 주소는 \"URL\" 문자로 바꾸겠습니다. [정규식](https://mathiasbynens.be/demo/url-regex)을 하드 코딩할 수도 있지만 [urlextract](https://github.com/lipoja/URLExtract) 라이브러리를 사용하겠습니다. 다음 명령으로 설치합니다(먼저 virtualenv 환경을 활성화시켜야 합니다. 별도의 환경이 없다면 어드민 권한이 필요할지 모릅니다. 아니면 `--user` 옵션을 사용하세요):\n",
        "\n",
        "`$ pip install urlextract`"
      ]
    },
    {
      "cell_type": "code",
      "execution_count": null,
      "metadata": {
        "execution": {
          "iopub.execute_input": "2021-11-03T04:28:21.115501Z",
          "iopub.status.busy": "2021-11-03T04:28:21.114344Z",
          "iopub.status.idle": "2021-11-03T04:28:21.116123Z",
          "shell.execute_reply": "2021-11-03T04:28:21.116543Z"
        },
        "id": "MPgyBr1HDqmn"
      },
      "outputs": [],
      "source": [
        "# 코랩에서 이 노트북을 실행하려면 먼저 pip install urlextract을 실행합니다\n",
        "try:\n",
        "    import google.colab\n",
        "    %pip install -q -U urlextract\n",
        "except ImportError:\n",
        "    pass # 코랩에서는 실행되지 않음"
      ]
    },
    {
      "cell_type": "markdown",
      "metadata": {
        "id": "eV8YoGnxDqmq"
      },
      "source": [
        "**노트:** 주피터 노트북에서는 항상 `!pip` 대신 `%pip`를 사용해야 합니다. `!pip`는 다른 환경에 라이브러리를 설치할 수 있기 때문입니다. 반면 `%pip`는 현재 실행 중인 환경에 설치됩니다."
      ]
    },
    {
      "cell_type": "code",
      "execution_count": null,
      "metadata": {
        "execution": {
          "iopub.execute_input": "2021-11-03T04:28:21.120656Z",
          "iopub.status.busy": "2021-11-03T04:28:21.120064Z",
          "iopub.status.idle": "2021-11-03T04:28:21.268470Z",
          "shell.execute_reply": "2021-11-03T04:28:21.268892Z"
        },
        "id": "JlJpc0VxDqmq"
      },
      "outputs": [],
      "source": [
        "try:\n",
        "    import urlextract # 루트 도메인 이름을 다운로드하기 위해 인터넷 연결이 필요할지 모릅니다\n",
        "\n",
        "    url_extractor = urlextract.URLExtract()\n",
        "    print(url_extractor.find_urls(\"Will it detect github.com and https://youtu.be/7Pq-S557XQU?t=3m32s\"))\n",
        "except ImportError:\n",
        "    print(\"Error: replacing URLs requires the urlextract module.\")\n",
        "    url_extractor = None"
      ]
    },
    {
      "cell_type": "markdown",
      "metadata": {
        "id": "xQFyP0yBDqmq"
      },
      "source": [
        "이들을 모두 하나의 변환기로 연결하여 이메일을 단어 카운트로 바꿀 것입니다. 파이썬의 `split()` 메서드를 사용하면 구둣점과 단어 경계를 기준으로 문장을 단어로 바꿉니다. 이 방법이 많은 언어에 통하지만 전부는 아닙니다. 예를 들어 중국어와 일본어는 일반적으로 단어 사이에 공백을 두지 않습니다. 베트남어는 음절 사이에 공백을 두기도 합니다. 여기서는 데이터셋이 (거의) 영어로 되어 있기 때문에 문제없습니다."
      ]
    },
    {
      "cell_type": "code",
      "execution_count": null,
      "metadata": {
        "execution": {
          "iopub.execute_input": "2021-11-03T04:28:21.278776Z",
          "iopub.status.busy": "2021-11-03T04:28:21.277526Z",
          "iopub.status.idle": "2021-11-03T04:28:21.279412Z",
          "shell.execute_reply": "2021-11-03T04:28:21.279817Z"
        },
        "id": "hk8MMeWbDqmq"
      },
      "outputs": [],
      "source": [
        "from sklearn.base import BaseEstimator, TransformerMixin\n",
        "\n",
        "class EmailToWordCounterTransformer(BaseEstimator, TransformerMixin):\n",
        "    def __init__(self, strip_headers=True, lower_case=True, remove_punctuation=True,\n",
        "                 replace_urls=True, replace_numbers=True, stemming=True):\n",
        "        self.strip_headers = strip_headers\n",
        "        self.lower_case = lower_case\n",
        "        self.remove_punctuation = remove_punctuation\n",
        "        self.replace_urls = replace_urls\n",
        "        self.replace_numbers = replace_numbers\n",
        "        self.stemming = stemming\n",
        "    def fit(self, X, y=None):\n",
        "        return self\n",
        "    def transform(self, X, y=None):\n",
        "        X_transformed = []\n",
        "        for email in X:\n",
        "            text = email_to_text(email) or \"\"\n",
        "            if self.lower_case:\n",
        "                text = text.lower()\n",
        "            if self.replace_urls and url_extractor is not None:\n",
        "                urls = list(set(url_extractor.find_urls(text)))\n",
        "                urls.sort(key=lambda url: len(url), reverse=True)\n",
        "                for url in urls:\n",
        "                    text = text.replace(url, \" URL \")\n",
        "            if self.replace_numbers:\n",
        "                text = re.sub(r'\\d+(?:\\.\\d*)?(?:[eE][+-]?\\d+)?', 'NUMBER', text)\n",
        "            if self.remove_punctuation:\n",
        "                text = re.sub(r'\\W+', ' ', text, flags=re.M)\n",
        "            word_counts = Counter(text.split())\n",
        "            if self.stemming and stemmer is not None:\n",
        "                stemmed_word_counts = Counter()\n",
        "                for word, count in word_counts.items():\n",
        "                    stemmed_word = stemmer.stem(word)\n",
        "                    stemmed_word_counts[stemmed_word] += count\n",
        "                word_counts = stemmed_word_counts\n",
        "            X_transformed.append(word_counts)\n",
        "        return np.array(X_transformed)"
      ]
    },
    {
      "cell_type": "markdown",
      "metadata": {
        "id": "DinlPeASDqmq"
      },
      "source": [
        "이 변환기를 몇 개의 이메일에 적용해 보겠습니다:"
      ]
    },
    {
      "cell_type": "code",
      "execution_count": null,
      "metadata": {
        "execution": {
          "iopub.execute_input": "2021-11-03T04:28:21.304579Z",
          "iopub.status.busy": "2021-11-03T04:28:21.301700Z",
          "iopub.status.idle": "2021-11-03T04:28:21.307873Z",
          "shell.execute_reply": "2021-11-03T04:28:21.308267Z"
        },
        "id": "MVi9F1TdDqmq"
      },
      "outputs": [],
      "source": [
        "X_few = X_train[:3]\n",
        "X_few_wordcounts = EmailToWordCounterTransformer().fit_transform(X_few)\n",
        "X_few_wordcounts"
      ]
    },
    {
      "cell_type": "markdown",
      "metadata": {
        "id": "7pyin5-fDqmq"
      },
      "source": [
        "제대로 작동하는 것 같네요!"
      ]
    },
    {
      "cell_type": "markdown",
      "metadata": {
        "id": "DwGz-FxsDqmq"
      },
      "source": [
        "이제 단어 카운트를 벡터로 변환해야 합니다. 이를 위해서 또 다른 변환기를 만들겠습니다. 이 변환기는 (자주 나타나는 단어 순으로 정렬된) 어휘 목록을 구축하는 `fit()` 메서드와 어휘 목록을 사용해 단어를 벡터로 바꾸는 `transform()` 메서드를 가집니다. 출력은 희소 행렬이 됩니다."
      ]
    },
    {
      "cell_type": "code",
      "execution_count": null,
      "metadata": {
        "execution": {
          "iopub.execute_input": "2021-11-03T04:28:21.315765Z",
          "iopub.status.busy": "2021-11-03T04:28:21.315161Z",
          "iopub.status.idle": "2021-11-03T04:28:21.318010Z",
          "shell.execute_reply": "2021-11-03T04:28:21.318398Z"
        },
        "id": "jjG9AVvmDqmq"
      },
      "outputs": [],
      "source": [
        "from scipy.sparse import csr_matrix\n",
        "\n",
        "class WordCounterToVectorTransformer(BaseEstimator, TransformerMixin):\n",
        "    def __init__(self, vocabulary_size=1000):\n",
        "        self.vocabulary_size = vocabulary_size\n",
        "    def fit(self, X, y=None):\n",
        "        total_count = Counter()\n",
        "        for word_count in X:\n",
        "            for word, count in word_count.items():\n",
        "                total_count[word] += min(count, 10)\n",
        "        most_common = total_count.most_common()[:self.vocabulary_size]\n",
        "        self.vocabulary_ = {word: index + 1 for index, (word, count) in enumerate(most_common)}\n",
        "        return self\n",
        "    def transform(self, X, y=None):\n",
        "        rows = []\n",
        "        cols = []\n",
        "        data = []\n",
        "        for row, word_count in enumerate(X):\n",
        "            for word, count in word_count.items():\n",
        "                rows.append(row)\n",
        "                cols.append(self.vocabulary_.get(word, 0))\n",
        "                data.append(count)\n",
        "        return csr_matrix((data, (rows, cols)), shape=(len(X), self.vocabulary_size + 1))"
      ]
    },
    {
      "cell_type": "code",
      "execution_count": null,
      "metadata": {
        "execution": {
          "iopub.execute_input": "2021-11-03T04:28:21.322292Z",
          "iopub.status.busy": "2021-11-03T04:28:21.321726Z",
          "iopub.status.idle": "2021-11-03T04:28:21.327139Z",
          "shell.execute_reply": "2021-11-03T04:28:21.327637Z"
        },
        "id": "Lk3bescVDqmr"
      },
      "outputs": [],
      "source": [
        "vocab_transformer = WordCounterToVectorTransformer(vocabulary_size=10)\n",
        "X_few_vectors = vocab_transformer.fit_transform(X_few_wordcounts)\n",
        "X_few_vectors"
      ]
    },
    {
      "cell_type": "code",
      "execution_count": null,
      "metadata": {
        "execution": {
          "iopub.execute_input": "2021-11-03T04:28:21.331544Z",
          "iopub.status.busy": "2021-11-03T04:28:21.329715Z",
          "iopub.status.idle": "2021-11-03T04:28:21.334546Z",
          "shell.execute_reply": "2021-11-03T04:28:21.334077Z"
        },
        "id": "PGd2EW7sDqmr"
      },
      "outputs": [],
      "source": [
        "X_few_vectors.toarray()"
      ]
    },
    {
      "cell_type": "markdown",
      "metadata": {
        "id": "20Jbwe6GDqmr"
      },
      "source": [
        "이 행렬은 무엇을 의미하나요? 세 번째 행의 첫 번째 열의 65는 세 번째 이메일이 어휘 목록에 없는 단어를 65개 가지고 있다는 뜻입니다. 그 다음의 0은 어휘 목록에 있는 첫 번째 단어가 한 번도 등장하지 않는다는 뜻이고 그 다음의 1은 한 번 나타난다는 뜻입니다. 이 단어들이 무엇인지 확인하려면 어휘 목록을 보면 됩니다. 첫 번째 단어는 \"the\"이고 두 번째 단어는 \"of\"입니다."
      ]
    },
    {
      "cell_type": "code",
      "execution_count": null,
      "metadata": {
        "execution": {
          "iopub.execute_input": "2021-11-03T04:28:21.339014Z",
          "iopub.status.busy": "2021-11-03T04:28:21.338431Z",
          "iopub.status.idle": "2021-11-03T04:28:21.341409Z",
          "shell.execute_reply": "2021-11-03T04:28:21.341812Z"
        },
        "scrolled": true,
        "id": "uaMHAQcbDqmr"
      },
      "outputs": [],
      "source": [
        "vocab_transformer.vocabulary_"
      ]
    },
    {
      "cell_type": "markdown",
      "metadata": {
        "id": "4ZOFxN4NDqmr"
      },
      "source": [
        "이제 스팸 분류기를 훈련시킬 준비를 마쳤습니다! 전체 데이터셋을 변환시켜보죠:"
      ]
    },
    {
      "cell_type": "code",
      "execution_count": null,
      "metadata": {
        "execution": {
          "iopub.execute_input": "2021-11-03T04:28:21.421052Z",
          "iopub.status.busy": "2021-11-03T04:28:21.376325Z",
          "iopub.status.idle": "2021-11-03T04:28:59.043544Z",
          "shell.execute_reply": "2021-11-03T04:28:59.042934Z"
        },
        "id": "GXYtzFCCDqmr"
      },
      "outputs": [],
      "source": [
        "from sklearn.pipeline import Pipeline\n",
        "\n",
        "preprocess_pipeline = Pipeline([\n",
        "    (\"email_to_wordcount\", EmailToWordCounterTransformer()),\n",
        "    (\"wordcount_to_vector\", WordCounterToVectorTransformer()),\n",
        "])\n",
        "\n",
        "X_train_transformed = preprocess_pipeline.fit_transform(X_train)"
      ]
    },
    {
      "cell_type": "markdown",
      "metadata": {
        "id": "Nb7KBvsaDqmr"
      },
      "source": [
        "**Note**: to be future-proof, we set `solver=\"lbfgs\"` since this will be the default value in Scikit-Learn 0.22."
      ]
    },
    {
      "cell_type": "code",
      "execution_count": null,
      "metadata": {
        "execution": {
          "iopub.execute_input": "2021-11-03T04:28:59.049446Z",
          "iopub.status.busy": "2021-11-03T04:28:59.048743Z",
          "iopub.status.idle": "2021-11-03T04:28:59.908517Z",
          "shell.execute_reply": "2021-11-03T04:28:59.908930Z"
        },
        "id": "4Fh6aszBDqmr"
      },
      "outputs": [],
      "source": [
        "from sklearn.linear_model import LogisticRegression\n",
        "from sklearn.model_selection import cross_val_score\n",
        "\n",
        "log_clf = LogisticRegression(solver=\"lbfgs\", max_iter=1000, random_state=42)\n",
        "score = cross_val_score(log_clf, X_train_transformed, y_train, cv=3, verbose=3)\n",
        "score.mean()"
      ]
    },
    {
      "cell_type": "markdown",
      "metadata": {
        "id": "QNmvnWnkDqms"
      },
      "source": [
        "98.5%가 넘네요. 첫 번째 시도치고 나쁘지 않습니다! :) 그러나 이 데이터셋은 비교적 쉬운 문제입니다. 더 어려운 데이터셋에 적용해 보면 결과가 그리 높지 않을 것입니다. 여러개의 모델을 시도해 보고 제일 좋은 것을 골라 교차 검증으로 세밀하게 튜닝해 보세요.\n",
        "\n",
        "하지만 전체 내용을 파악했으므로 여기서 멈추겠습니다. 테스트 세트에서 정밀도/재현율을 출력해 보겠습니다:"
      ]
    },
    {
      "cell_type": "code",
      "execution_count": null,
      "metadata": {
        "execution": {
          "iopub.execute_input": "2021-11-03T04:28:59.911895Z",
          "iopub.status.busy": "2021-11-03T04:28:59.911311Z",
          "iopub.status.idle": "2021-11-03T04:29:11.793159Z",
          "shell.execute_reply": "2021-11-03T04:29:11.793726Z"
        },
        "id": "QT9ilIcDDqms"
      },
      "outputs": [],
      "source": [
        "from sklearn.metrics import precision_score, recall_score\n",
        "\n",
        "X_test_transformed = preprocess_pipeline.transform(X_test)\n",
        "\n",
        "log_clf = LogisticRegression(solver=\"lbfgs\", max_iter=1000, random_state=42)\n",
        "log_clf.fit(X_train_transformed, y_train)\n",
        "\n",
        "y_pred = log_clf.predict(X_test_transformed)\n",
        "\n",
        "print(\"정밀도: {:.2f}%\".format(100 * precision_score(y_test, y_pred)))\n",
        "print(\"재현율: {:.2f}%\".format(100 * recall_score(y_test, y_pred)))"
      ]
    }
  ],
  "metadata": {
    "kernelspec": {
      "display_name": "Python 3",
      "name": "python3"
    },
    "language_info": {
      "codemirror_mode": {
        "name": "ipython",
        "version": 3
      },
      "file_extension": ".py",
      "mimetype": "text/x-python",
      "name": "python",
      "nbconvert_exporter": "python",
      "pygments_lexer": "ipython3",
      "version": "3.7.3"
    },
    "nav_menu": {},
    "toc": {
      "navigate_menu": true,
      "number_sections": true,
      "sideBar": true,
      "threshold": 6,
      "toc_cell": false,
      "toc_section_display": "block",
      "toc_window_display": false
    },
    "colab": {
      "provenance": [],
      "gpuType": "T4",
      "include_colab_link": true
    },
    "accelerator": "GPU"
  },
  "nbformat": 4,
  "nbformat_minor": 0
}